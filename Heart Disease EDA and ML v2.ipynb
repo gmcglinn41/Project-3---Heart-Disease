{
 "cells": [
  {
   "cell_type": "code",
   "execution_count": 1,
   "metadata": {},
   "outputs": [],
   "source": [
    "import pandas as pd\n",
    "import numpy as np\n",
    "import seaborn as sns\n",
    "import matplotlib.pyplot as plt\n",
    "%matplotlib inline"
   ]
  },
  {
   "cell_type": "code",
   "execution_count": 2,
   "metadata": {},
   "outputs": [],
   "source": [
    "heartdf = pd.read_csv('resources/heart.csv')"
   ]
  },
  {
   "cell_type": "code",
   "execution_count": 3,
   "metadata": {},
   "outputs": [],
   "source": [
    "#Exploratory Data Analysis"
   ]
  },
  {
   "cell_type": "code",
   "execution_count": 4,
   "metadata": {},
   "outputs": [
    {
     "output_type": "execute_result",
     "data": {
      "text/plain": [
       "    age  sex  cp  trestbps  chol  fbs  restecg  thalach  exang  oldpeak  \\\n",
       "0    63    1   3       145   233    1        0      150      0      2.3   \n",
       "1    37    1   2       130   250    0        1      187      0      3.5   \n",
       "2    41    0   1       130   204    0        0      172      0      1.4   \n",
       "3    56    1   1       120   236    0        1      178      0      0.8   \n",
       "4    57    0   0       120   354    0        1      163      1      0.6   \n",
       "..  ...  ...  ..       ...   ...  ...      ...      ...    ...      ...   \n",
       "95   53    1   0       142   226    0        0      111      1      0.0   \n",
       "96   62    0   0       140   394    0        0      157      0      1.2   \n",
       "97   52    1   0       108   233    1        1      147      0      0.1   \n",
       "98   43    1   2       130   315    0        1      162      0      1.9   \n",
       "99   53    1   2       130   246    1        0      173      0      0.0   \n",
       "\n",
       "    slope  ca  thal  target  \n",
       "0       0   0     1       1  \n",
       "1       0   0     2       1  \n",
       "2       2   0     2       1  \n",
       "3       2   0     2       1  \n",
       "4       2   0     2       1  \n",
       "..    ...  ..   ...     ...  \n",
       "95      2   0     3       1  \n",
       "96      1   0     2       1  \n",
       "97      2   3     3       1  \n",
       "98      2   1     2       1  \n",
       "99      2   3     2       1  \n",
       "\n",
       "[100 rows x 14 columns]"
      ],
      "text/html": "<div>\n<style scoped>\n    .dataframe tbody tr th:only-of-type {\n        vertical-align: middle;\n    }\n\n    .dataframe tbody tr th {\n        vertical-align: top;\n    }\n\n    .dataframe thead th {\n        text-align: right;\n    }\n</style>\n<table border=\"1\" class=\"dataframe\">\n  <thead>\n    <tr style=\"text-align: right;\">\n      <th></th>\n      <th>age</th>\n      <th>sex</th>\n      <th>cp</th>\n      <th>trestbps</th>\n      <th>chol</th>\n      <th>fbs</th>\n      <th>restecg</th>\n      <th>thalach</th>\n      <th>exang</th>\n      <th>oldpeak</th>\n      <th>slope</th>\n      <th>ca</th>\n      <th>thal</th>\n      <th>target</th>\n    </tr>\n  </thead>\n  <tbody>\n    <tr>\n      <th>0</th>\n      <td>63</td>\n      <td>1</td>\n      <td>3</td>\n      <td>145</td>\n      <td>233</td>\n      <td>1</td>\n      <td>0</td>\n      <td>150</td>\n      <td>0</td>\n      <td>2.3</td>\n      <td>0</td>\n      <td>0</td>\n      <td>1</td>\n      <td>1</td>\n    </tr>\n    <tr>\n      <th>1</th>\n      <td>37</td>\n      <td>1</td>\n      <td>2</td>\n      <td>130</td>\n      <td>250</td>\n      <td>0</td>\n      <td>1</td>\n      <td>187</td>\n      <td>0</td>\n      <td>3.5</td>\n      <td>0</td>\n      <td>0</td>\n      <td>2</td>\n      <td>1</td>\n    </tr>\n    <tr>\n      <th>2</th>\n      <td>41</td>\n      <td>0</td>\n      <td>1</td>\n      <td>130</td>\n      <td>204</td>\n      <td>0</td>\n      <td>0</td>\n      <td>172</td>\n      <td>0</td>\n      <td>1.4</td>\n      <td>2</td>\n      <td>0</td>\n      <td>2</td>\n      <td>1</td>\n    </tr>\n    <tr>\n      <th>3</th>\n      <td>56</td>\n      <td>1</td>\n      <td>1</td>\n      <td>120</td>\n      <td>236</td>\n      <td>0</td>\n      <td>1</td>\n      <td>178</td>\n      <td>0</td>\n      <td>0.8</td>\n      <td>2</td>\n      <td>0</td>\n      <td>2</td>\n      <td>1</td>\n    </tr>\n    <tr>\n      <th>4</th>\n      <td>57</td>\n      <td>0</td>\n      <td>0</td>\n      <td>120</td>\n      <td>354</td>\n      <td>0</td>\n      <td>1</td>\n      <td>163</td>\n      <td>1</td>\n      <td>0.6</td>\n      <td>2</td>\n      <td>0</td>\n      <td>2</td>\n      <td>1</td>\n    </tr>\n    <tr>\n      <th>...</th>\n      <td>...</td>\n      <td>...</td>\n      <td>...</td>\n      <td>...</td>\n      <td>...</td>\n      <td>...</td>\n      <td>...</td>\n      <td>...</td>\n      <td>...</td>\n      <td>...</td>\n      <td>...</td>\n      <td>...</td>\n      <td>...</td>\n      <td>...</td>\n    </tr>\n    <tr>\n      <th>95</th>\n      <td>53</td>\n      <td>1</td>\n      <td>0</td>\n      <td>142</td>\n      <td>226</td>\n      <td>0</td>\n      <td>0</td>\n      <td>111</td>\n      <td>1</td>\n      <td>0.0</td>\n      <td>2</td>\n      <td>0</td>\n      <td>3</td>\n      <td>1</td>\n    </tr>\n    <tr>\n      <th>96</th>\n      <td>62</td>\n      <td>0</td>\n      <td>0</td>\n      <td>140</td>\n      <td>394</td>\n      <td>0</td>\n      <td>0</td>\n      <td>157</td>\n      <td>0</td>\n      <td>1.2</td>\n      <td>1</td>\n      <td>0</td>\n      <td>2</td>\n      <td>1</td>\n    </tr>\n    <tr>\n      <th>97</th>\n      <td>52</td>\n      <td>1</td>\n      <td>0</td>\n      <td>108</td>\n      <td>233</td>\n      <td>1</td>\n      <td>1</td>\n      <td>147</td>\n      <td>0</td>\n      <td>0.1</td>\n      <td>2</td>\n      <td>3</td>\n      <td>3</td>\n      <td>1</td>\n    </tr>\n    <tr>\n      <th>98</th>\n      <td>43</td>\n      <td>1</td>\n      <td>2</td>\n      <td>130</td>\n      <td>315</td>\n      <td>0</td>\n      <td>1</td>\n      <td>162</td>\n      <td>0</td>\n      <td>1.9</td>\n      <td>2</td>\n      <td>1</td>\n      <td>2</td>\n      <td>1</td>\n    </tr>\n    <tr>\n      <th>99</th>\n      <td>53</td>\n      <td>1</td>\n      <td>2</td>\n      <td>130</td>\n      <td>246</td>\n      <td>1</td>\n      <td>0</td>\n      <td>173</td>\n      <td>0</td>\n      <td>0.0</td>\n      <td>2</td>\n      <td>3</td>\n      <td>2</td>\n      <td>1</td>\n    </tr>\n  </tbody>\n</table>\n<p>100 rows × 14 columns</p>\n</div>"
     },
     "metadata": {},
     "execution_count": 4
    }
   ],
   "source": [
    "heartdf.head(100)\n"
   ]
  },
  {
   "cell_type": "raw",
   "metadata": {},
   "source": [
    "#Column Descriptions\n",
    "-age in years\n",
    "-gender =(1 is Male; 0 is Female)\n",
    "-cp = chest pain type.  Ranges from 1 to 3\n",
    "-trestbps = resting blood pressure in hg on admission to hospital\n",
    "-chol =serum cholestral in mg/dl\n",
    "-fbs = fasting blood sugar & gt\n",
    "-restecg = resting electrographic results\n",
    "-thalach = maximum heart rate achieved\n",
    "-exang = exercise induced angina (1 = yes, 0 = no)\n",
    "-oldpeak = st depression induced by exercise relative to rest\n",
    "-slope = the slope of the peak exercise ST segment\n",
    "-ca = number of major vessels (0-3) colored by flourosopy\n",
    "-thai (3 = normal; 6 = fixed defect; 7 = reversable defect)\n",
    "-target (1 = heart disease or 0 = no heart disease)"
   ]
  },
  {
   "cell_type": "code",
   "execution_count": 5,
   "metadata": {},
   "outputs": [],
   "source": [
    "\n",
    "heartdf.rename(columns={\"cp\": \"chest_pain_type\", \"trestbps\": \"resting_bp\", \"restecg\": \"fasting_blood_sugar\",\n",
    "                  \"thalach\": \"max_heart_rate\", \"exang\":\"exercise_reduced_angina\"},inplace=True)"
   ]
  },
  {
   "cell_type": "code",
   "execution_count": 6,
   "metadata": {},
   "outputs": [
    {
     "output_type": "execute_result",
     "data": {
      "text/plain": [
       "    age  sex  chest_pain_type  resting_bp  chol  fbs  fasting_blood_sugar  \\\n",
       "0    63    1                3         145   233    1                    0   \n",
       "1    37    1                2         130   250    0                    1   \n",
       "2    41    0                1         130   204    0                    0   \n",
       "3    56    1                1         120   236    0                    1   \n",
       "4    57    0                0         120   354    0                    1   \n",
       "5    57    1                0         140   192    0                    1   \n",
       "6    56    0                1         140   294    0                    0   \n",
       "7    44    1                1         120   263    0                    1   \n",
       "8    52    1                2         172   199    1                    1   \n",
       "9    57    1                2         150   168    0                    1   \n",
       "10   54    1                0         140   239    0                    1   \n",
       "11   48    0                2         130   275    0                    1   \n",
       "12   49    1                1         130   266    0                    1   \n",
       "13   64    1                3         110   211    0                    0   \n",
       "14   58    0                3         150   283    1                    0   \n",
       "15   50    0                2         120   219    0                    1   \n",
       "16   58    0                2         120   340    0                    1   \n",
       "17   66    0                3         150   226    0                    1   \n",
       "18   43    1                0         150   247    0                    1   \n",
       "19   69    0                3         140   239    0                    1   \n",
       "20   59    1                0         135   234    0                    1   \n",
       "21   44    1                2         130   233    0                    1   \n",
       "22   42    1                0         140   226    0                    1   \n",
       "23   61    1                2         150   243    1                    1   \n",
       "24   40    1                3         140   199    0                    1   \n",
       "25   71    0                1         160   302    0                    1   \n",
       "26   59    1                2         150   212    1                    1   \n",
       "27   51    1                2         110   175    0                    1   \n",
       "28   65    0                2         140   417    1                    0   \n",
       "29   53    1                2         130   197    1                    0   \n",
       "30   41    0                1         105   198    0                    1   \n",
       "31   65    1                0         120   177    0                    1   \n",
       "32   44    1                1         130   219    0                    0   \n",
       "33   54    1                2         125   273    0                    0   \n",
       "34   51    1                3         125   213    0                    0   \n",
       "35   46    0                2         142   177    0                    0   \n",
       "36   54    0                2         135   304    1                    1   \n",
       "37   54    1                2         150   232    0                    0   \n",
       "38   65    0                2         155   269    0                    1   \n",
       "39   65    0                2         160   360    0                    0   \n",
       "40   51    0                2         140   308    0                    0   \n",
       "41   48    1                1         130   245    0                    0   \n",
       "42   45    1                0         104   208    0                    0   \n",
       "43   53    0                0         130   264    0                    0   \n",
       "44   39    1                2         140   321    0                    0   \n",
       "45   52    1                1         120   325    0                    1   \n",
       "46   44    1                2         140   235    0                    0   \n",
       "47   47    1                2         138   257    0                    0   \n",
       "48   53    0                2         128   216    0                    0   \n",
       "49   53    0                0         138   234    0                    0   \n",
       "\n",
       "    max_heart_rate  exercise_reduced_angina  oldpeak  slope  ca  thal  target  \n",
       "0              150                        0      2.3      0   0     1       1  \n",
       "1              187                        0      3.5      0   0     2       1  \n",
       "2              172                        0      1.4      2   0     2       1  \n",
       "3              178                        0      0.8      2   0     2       1  \n",
       "4              163                        1      0.6      2   0     2       1  \n",
       "5              148                        0      0.4      1   0     1       1  \n",
       "6              153                        0      1.3      1   0     2       1  \n",
       "7              173                        0      0.0      2   0     3       1  \n",
       "8              162                        0      0.5      2   0     3       1  \n",
       "9              174                        0      1.6      2   0     2       1  \n",
       "10             160                        0      1.2      2   0     2       1  \n",
       "11             139                        0      0.2      2   0     2       1  \n",
       "12             171                        0      0.6      2   0     2       1  \n",
       "13             144                        1      1.8      1   0     2       1  \n",
       "14             162                        0      1.0      2   0     2       1  \n",
       "15             158                        0      1.6      1   0     2       1  \n",
       "16             172                        0      0.0      2   0     2       1  \n",
       "17             114                        0      2.6      0   0     2       1  \n",
       "18             171                        0      1.5      2   0     2       1  \n",
       "19             151                        0      1.8      2   2     2       1  \n",
       "20             161                        0      0.5      1   0     3       1  \n",
       "21             179                        1      0.4      2   0     2       1  \n",
       "22             178                        0      0.0      2   0     2       1  \n",
       "23             137                        1      1.0      1   0     2       1  \n",
       "24             178                        1      1.4      2   0     3       1  \n",
       "25             162                        0      0.4      2   2     2       1  \n",
       "26             157                        0      1.6      2   0     2       1  \n",
       "27             123                        0      0.6      2   0     2       1  \n",
       "28             157                        0      0.8      2   1     2       1  \n",
       "29             152                        0      1.2      0   0     2       1  \n",
       "30             168                        0      0.0      2   1     2       1  \n",
       "31             140                        0      0.4      2   0     3       1  \n",
       "32             188                        0      0.0      2   0     2       1  \n",
       "33             152                        0      0.5      0   1     2       1  \n",
       "34             125                        1      1.4      2   1     2       1  \n",
       "35             160                        1      1.4      0   0     2       1  \n",
       "36             170                        0      0.0      2   0     2       1  \n",
       "37             165                        0      1.6      2   0     3       1  \n",
       "38             148                        0      0.8      2   0     2       1  \n",
       "39             151                        0      0.8      2   0     2       1  \n",
       "40             142                        0      1.5      2   1     2       1  \n",
       "41             180                        0      0.2      1   0     2       1  \n",
       "42             148                        1      3.0      1   0     2       1  \n",
       "43             143                        0      0.4      1   0     2       1  \n",
       "44             182                        0      0.0      2   0     2       1  \n",
       "45             172                        0      0.2      2   0     2       1  \n",
       "46             180                        0      0.0      2   0     2       1  \n",
       "47             156                        0      0.0      2   0     2       1  \n",
       "48             115                        0      0.0      2   0     0       1  \n",
       "49             160                        0      0.0      2   0     2       1  "
      ],
      "text/html": "<div>\n<style scoped>\n    .dataframe tbody tr th:only-of-type {\n        vertical-align: middle;\n    }\n\n    .dataframe tbody tr th {\n        vertical-align: top;\n    }\n\n    .dataframe thead th {\n        text-align: right;\n    }\n</style>\n<table border=\"1\" class=\"dataframe\">\n  <thead>\n    <tr style=\"text-align: right;\">\n      <th></th>\n      <th>age</th>\n      <th>sex</th>\n      <th>chest_pain_type</th>\n      <th>resting_bp</th>\n      <th>chol</th>\n      <th>fbs</th>\n      <th>fasting_blood_sugar</th>\n      <th>max_heart_rate</th>\n      <th>exercise_reduced_angina</th>\n      <th>oldpeak</th>\n      <th>slope</th>\n      <th>ca</th>\n      <th>thal</th>\n      <th>target</th>\n    </tr>\n  </thead>\n  <tbody>\n    <tr>\n      <th>0</th>\n      <td>63</td>\n      <td>1</td>\n      <td>3</td>\n      <td>145</td>\n      <td>233</td>\n      <td>1</td>\n      <td>0</td>\n      <td>150</td>\n      <td>0</td>\n      <td>2.3</td>\n      <td>0</td>\n      <td>0</td>\n      <td>1</td>\n      <td>1</td>\n    </tr>\n    <tr>\n      <th>1</th>\n      <td>37</td>\n      <td>1</td>\n      <td>2</td>\n      <td>130</td>\n      <td>250</td>\n      <td>0</td>\n      <td>1</td>\n      <td>187</td>\n      <td>0</td>\n      <td>3.5</td>\n      <td>0</td>\n      <td>0</td>\n      <td>2</td>\n      <td>1</td>\n    </tr>\n    <tr>\n      <th>2</th>\n      <td>41</td>\n      <td>0</td>\n      <td>1</td>\n      <td>130</td>\n      <td>204</td>\n      <td>0</td>\n      <td>0</td>\n      <td>172</td>\n      <td>0</td>\n      <td>1.4</td>\n      <td>2</td>\n      <td>0</td>\n      <td>2</td>\n      <td>1</td>\n    </tr>\n    <tr>\n      <th>3</th>\n      <td>56</td>\n      <td>1</td>\n      <td>1</td>\n      <td>120</td>\n      <td>236</td>\n      <td>0</td>\n      <td>1</td>\n      <td>178</td>\n      <td>0</td>\n      <td>0.8</td>\n      <td>2</td>\n      <td>0</td>\n      <td>2</td>\n      <td>1</td>\n    </tr>\n    <tr>\n      <th>4</th>\n      <td>57</td>\n      <td>0</td>\n      <td>0</td>\n      <td>120</td>\n      <td>354</td>\n      <td>0</td>\n      <td>1</td>\n      <td>163</td>\n      <td>1</td>\n      <td>0.6</td>\n      <td>2</td>\n      <td>0</td>\n      <td>2</td>\n      <td>1</td>\n    </tr>\n    <tr>\n      <th>5</th>\n      <td>57</td>\n      <td>1</td>\n      <td>0</td>\n      <td>140</td>\n      <td>192</td>\n      <td>0</td>\n      <td>1</td>\n      <td>148</td>\n      <td>0</td>\n      <td>0.4</td>\n      <td>1</td>\n      <td>0</td>\n      <td>1</td>\n      <td>1</td>\n    </tr>\n    <tr>\n      <th>6</th>\n      <td>56</td>\n      <td>0</td>\n      <td>1</td>\n      <td>140</td>\n      <td>294</td>\n      <td>0</td>\n      <td>0</td>\n      <td>153</td>\n      <td>0</td>\n      <td>1.3</td>\n      <td>1</td>\n      <td>0</td>\n      <td>2</td>\n      <td>1</td>\n    </tr>\n    <tr>\n      <th>7</th>\n      <td>44</td>\n      <td>1</td>\n      <td>1</td>\n      <td>120</td>\n      <td>263</td>\n      <td>0</td>\n      <td>1</td>\n      <td>173</td>\n      <td>0</td>\n      <td>0.0</td>\n      <td>2</td>\n      <td>0</td>\n      <td>3</td>\n      <td>1</td>\n    </tr>\n    <tr>\n      <th>8</th>\n      <td>52</td>\n      <td>1</td>\n      <td>2</td>\n      <td>172</td>\n      <td>199</td>\n      <td>1</td>\n      <td>1</td>\n      <td>162</td>\n      <td>0</td>\n      <td>0.5</td>\n      <td>2</td>\n      <td>0</td>\n      <td>3</td>\n      <td>1</td>\n    </tr>\n    <tr>\n      <th>9</th>\n      <td>57</td>\n      <td>1</td>\n      <td>2</td>\n      <td>150</td>\n      <td>168</td>\n      <td>0</td>\n      <td>1</td>\n      <td>174</td>\n      <td>0</td>\n      <td>1.6</td>\n      <td>2</td>\n      <td>0</td>\n      <td>2</td>\n      <td>1</td>\n    </tr>\n    <tr>\n      <th>10</th>\n      <td>54</td>\n      <td>1</td>\n      <td>0</td>\n      <td>140</td>\n      <td>239</td>\n      <td>0</td>\n      <td>1</td>\n      <td>160</td>\n      <td>0</td>\n      <td>1.2</td>\n      <td>2</td>\n      <td>0</td>\n      <td>2</td>\n      <td>1</td>\n    </tr>\n    <tr>\n      <th>11</th>\n      <td>48</td>\n      <td>0</td>\n      <td>2</td>\n      <td>130</td>\n      <td>275</td>\n      <td>0</td>\n      <td>1</td>\n      <td>139</td>\n      <td>0</td>\n      <td>0.2</td>\n      <td>2</td>\n      <td>0</td>\n      <td>2</td>\n      <td>1</td>\n    </tr>\n    <tr>\n      <th>12</th>\n      <td>49</td>\n      <td>1</td>\n      <td>1</td>\n      <td>130</td>\n      <td>266</td>\n      <td>0</td>\n      <td>1</td>\n      <td>171</td>\n      <td>0</td>\n      <td>0.6</td>\n      <td>2</td>\n      <td>0</td>\n      <td>2</td>\n      <td>1</td>\n    </tr>\n    <tr>\n      <th>13</th>\n      <td>64</td>\n      <td>1</td>\n      <td>3</td>\n      <td>110</td>\n      <td>211</td>\n      <td>0</td>\n      <td>0</td>\n      <td>144</td>\n      <td>1</td>\n      <td>1.8</td>\n      <td>1</td>\n      <td>0</td>\n      <td>2</td>\n      <td>1</td>\n    </tr>\n    <tr>\n      <th>14</th>\n      <td>58</td>\n      <td>0</td>\n      <td>3</td>\n      <td>150</td>\n      <td>283</td>\n      <td>1</td>\n      <td>0</td>\n      <td>162</td>\n      <td>0</td>\n      <td>1.0</td>\n      <td>2</td>\n      <td>0</td>\n      <td>2</td>\n      <td>1</td>\n    </tr>\n    <tr>\n      <th>15</th>\n      <td>50</td>\n      <td>0</td>\n      <td>2</td>\n      <td>120</td>\n      <td>219</td>\n      <td>0</td>\n      <td>1</td>\n      <td>158</td>\n      <td>0</td>\n      <td>1.6</td>\n      <td>1</td>\n      <td>0</td>\n      <td>2</td>\n      <td>1</td>\n    </tr>\n    <tr>\n      <th>16</th>\n      <td>58</td>\n      <td>0</td>\n      <td>2</td>\n      <td>120</td>\n      <td>340</td>\n      <td>0</td>\n      <td>1</td>\n      <td>172</td>\n      <td>0</td>\n      <td>0.0</td>\n      <td>2</td>\n      <td>0</td>\n      <td>2</td>\n      <td>1</td>\n    </tr>\n    <tr>\n      <th>17</th>\n      <td>66</td>\n      <td>0</td>\n      <td>3</td>\n      <td>150</td>\n      <td>226</td>\n      <td>0</td>\n      <td>1</td>\n      <td>114</td>\n      <td>0</td>\n      <td>2.6</td>\n      <td>0</td>\n      <td>0</td>\n      <td>2</td>\n      <td>1</td>\n    </tr>\n    <tr>\n      <th>18</th>\n      <td>43</td>\n      <td>1</td>\n      <td>0</td>\n      <td>150</td>\n      <td>247</td>\n      <td>0</td>\n      <td>1</td>\n      <td>171</td>\n      <td>0</td>\n      <td>1.5</td>\n      <td>2</td>\n      <td>0</td>\n      <td>2</td>\n      <td>1</td>\n    </tr>\n    <tr>\n      <th>19</th>\n      <td>69</td>\n      <td>0</td>\n      <td>3</td>\n      <td>140</td>\n      <td>239</td>\n      <td>0</td>\n      <td>1</td>\n      <td>151</td>\n      <td>0</td>\n      <td>1.8</td>\n      <td>2</td>\n      <td>2</td>\n      <td>2</td>\n      <td>1</td>\n    </tr>\n    <tr>\n      <th>20</th>\n      <td>59</td>\n      <td>1</td>\n      <td>0</td>\n      <td>135</td>\n      <td>234</td>\n      <td>0</td>\n      <td>1</td>\n      <td>161</td>\n      <td>0</td>\n      <td>0.5</td>\n      <td>1</td>\n      <td>0</td>\n      <td>3</td>\n      <td>1</td>\n    </tr>\n    <tr>\n      <th>21</th>\n      <td>44</td>\n      <td>1</td>\n      <td>2</td>\n      <td>130</td>\n      <td>233</td>\n      <td>0</td>\n      <td>1</td>\n      <td>179</td>\n      <td>1</td>\n      <td>0.4</td>\n      <td>2</td>\n      <td>0</td>\n      <td>2</td>\n      <td>1</td>\n    </tr>\n    <tr>\n      <th>22</th>\n      <td>42</td>\n      <td>1</td>\n      <td>0</td>\n      <td>140</td>\n      <td>226</td>\n      <td>0</td>\n      <td>1</td>\n      <td>178</td>\n      <td>0</td>\n      <td>0.0</td>\n      <td>2</td>\n      <td>0</td>\n      <td>2</td>\n      <td>1</td>\n    </tr>\n    <tr>\n      <th>23</th>\n      <td>61</td>\n      <td>1</td>\n      <td>2</td>\n      <td>150</td>\n      <td>243</td>\n      <td>1</td>\n      <td>1</td>\n      <td>137</td>\n      <td>1</td>\n      <td>1.0</td>\n      <td>1</td>\n      <td>0</td>\n      <td>2</td>\n      <td>1</td>\n    </tr>\n    <tr>\n      <th>24</th>\n      <td>40</td>\n      <td>1</td>\n      <td>3</td>\n      <td>140</td>\n      <td>199</td>\n      <td>0</td>\n      <td>1</td>\n      <td>178</td>\n      <td>1</td>\n      <td>1.4</td>\n      <td>2</td>\n      <td>0</td>\n      <td>3</td>\n      <td>1</td>\n    </tr>\n    <tr>\n      <th>25</th>\n      <td>71</td>\n      <td>0</td>\n      <td>1</td>\n      <td>160</td>\n      <td>302</td>\n      <td>0</td>\n      <td>1</td>\n      <td>162</td>\n      <td>0</td>\n      <td>0.4</td>\n      <td>2</td>\n      <td>2</td>\n      <td>2</td>\n      <td>1</td>\n    </tr>\n    <tr>\n      <th>26</th>\n      <td>59</td>\n      <td>1</td>\n      <td>2</td>\n      <td>150</td>\n      <td>212</td>\n      <td>1</td>\n      <td>1</td>\n      <td>157</td>\n      <td>0</td>\n      <td>1.6</td>\n      <td>2</td>\n      <td>0</td>\n      <td>2</td>\n      <td>1</td>\n    </tr>\n    <tr>\n      <th>27</th>\n      <td>51</td>\n      <td>1</td>\n      <td>2</td>\n      <td>110</td>\n      <td>175</td>\n      <td>0</td>\n      <td>1</td>\n      <td>123</td>\n      <td>0</td>\n      <td>0.6</td>\n      <td>2</td>\n      <td>0</td>\n      <td>2</td>\n      <td>1</td>\n    </tr>\n    <tr>\n      <th>28</th>\n      <td>65</td>\n      <td>0</td>\n      <td>2</td>\n      <td>140</td>\n      <td>417</td>\n      <td>1</td>\n      <td>0</td>\n      <td>157</td>\n      <td>0</td>\n      <td>0.8</td>\n      <td>2</td>\n      <td>1</td>\n      <td>2</td>\n      <td>1</td>\n    </tr>\n    <tr>\n      <th>29</th>\n      <td>53</td>\n      <td>1</td>\n      <td>2</td>\n      <td>130</td>\n      <td>197</td>\n      <td>1</td>\n      <td>0</td>\n      <td>152</td>\n      <td>0</td>\n      <td>1.2</td>\n      <td>0</td>\n      <td>0</td>\n      <td>2</td>\n      <td>1</td>\n    </tr>\n    <tr>\n      <th>30</th>\n      <td>41</td>\n      <td>0</td>\n      <td>1</td>\n      <td>105</td>\n      <td>198</td>\n      <td>0</td>\n      <td>1</td>\n      <td>168</td>\n      <td>0</td>\n      <td>0.0</td>\n      <td>2</td>\n      <td>1</td>\n      <td>2</td>\n      <td>1</td>\n    </tr>\n    <tr>\n      <th>31</th>\n      <td>65</td>\n      <td>1</td>\n      <td>0</td>\n      <td>120</td>\n      <td>177</td>\n      <td>0</td>\n      <td>1</td>\n      <td>140</td>\n      <td>0</td>\n      <td>0.4</td>\n      <td>2</td>\n      <td>0</td>\n      <td>3</td>\n      <td>1</td>\n    </tr>\n    <tr>\n      <th>32</th>\n      <td>44</td>\n      <td>1</td>\n      <td>1</td>\n      <td>130</td>\n      <td>219</td>\n      <td>0</td>\n      <td>0</td>\n      <td>188</td>\n      <td>0</td>\n      <td>0.0</td>\n      <td>2</td>\n      <td>0</td>\n      <td>2</td>\n      <td>1</td>\n    </tr>\n    <tr>\n      <th>33</th>\n      <td>54</td>\n      <td>1</td>\n      <td>2</td>\n      <td>125</td>\n      <td>273</td>\n      <td>0</td>\n      <td>0</td>\n      <td>152</td>\n      <td>0</td>\n      <td>0.5</td>\n      <td>0</td>\n      <td>1</td>\n      <td>2</td>\n      <td>1</td>\n    </tr>\n    <tr>\n      <th>34</th>\n      <td>51</td>\n      <td>1</td>\n      <td>3</td>\n      <td>125</td>\n      <td>213</td>\n      <td>0</td>\n      <td>0</td>\n      <td>125</td>\n      <td>1</td>\n      <td>1.4</td>\n      <td>2</td>\n      <td>1</td>\n      <td>2</td>\n      <td>1</td>\n    </tr>\n    <tr>\n      <th>35</th>\n      <td>46</td>\n      <td>0</td>\n      <td>2</td>\n      <td>142</td>\n      <td>177</td>\n      <td>0</td>\n      <td>0</td>\n      <td>160</td>\n      <td>1</td>\n      <td>1.4</td>\n      <td>0</td>\n      <td>0</td>\n      <td>2</td>\n      <td>1</td>\n    </tr>\n    <tr>\n      <th>36</th>\n      <td>54</td>\n      <td>0</td>\n      <td>2</td>\n      <td>135</td>\n      <td>304</td>\n      <td>1</td>\n      <td>1</td>\n      <td>170</td>\n      <td>0</td>\n      <td>0.0</td>\n      <td>2</td>\n      <td>0</td>\n      <td>2</td>\n      <td>1</td>\n    </tr>\n    <tr>\n      <th>37</th>\n      <td>54</td>\n      <td>1</td>\n      <td>2</td>\n      <td>150</td>\n      <td>232</td>\n      <td>0</td>\n      <td>0</td>\n      <td>165</td>\n      <td>0</td>\n      <td>1.6</td>\n      <td>2</td>\n      <td>0</td>\n      <td>3</td>\n      <td>1</td>\n    </tr>\n    <tr>\n      <th>38</th>\n      <td>65</td>\n      <td>0</td>\n      <td>2</td>\n      <td>155</td>\n      <td>269</td>\n      <td>0</td>\n      <td>1</td>\n      <td>148</td>\n      <td>0</td>\n      <td>0.8</td>\n      <td>2</td>\n      <td>0</td>\n      <td>2</td>\n      <td>1</td>\n    </tr>\n    <tr>\n      <th>39</th>\n      <td>65</td>\n      <td>0</td>\n      <td>2</td>\n      <td>160</td>\n      <td>360</td>\n      <td>0</td>\n      <td>0</td>\n      <td>151</td>\n      <td>0</td>\n      <td>0.8</td>\n      <td>2</td>\n      <td>0</td>\n      <td>2</td>\n      <td>1</td>\n    </tr>\n    <tr>\n      <th>40</th>\n      <td>51</td>\n      <td>0</td>\n      <td>2</td>\n      <td>140</td>\n      <td>308</td>\n      <td>0</td>\n      <td>0</td>\n      <td>142</td>\n      <td>0</td>\n      <td>1.5</td>\n      <td>2</td>\n      <td>1</td>\n      <td>2</td>\n      <td>1</td>\n    </tr>\n    <tr>\n      <th>41</th>\n      <td>48</td>\n      <td>1</td>\n      <td>1</td>\n      <td>130</td>\n      <td>245</td>\n      <td>0</td>\n      <td>0</td>\n      <td>180</td>\n      <td>0</td>\n      <td>0.2</td>\n      <td>1</td>\n      <td>0</td>\n      <td>2</td>\n      <td>1</td>\n    </tr>\n    <tr>\n      <th>42</th>\n      <td>45</td>\n      <td>1</td>\n      <td>0</td>\n      <td>104</td>\n      <td>208</td>\n      <td>0</td>\n      <td>0</td>\n      <td>148</td>\n      <td>1</td>\n      <td>3.0</td>\n      <td>1</td>\n      <td>0</td>\n      <td>2</td>\n      <td>1</td>\n    </tr>\n    <tr>\n      <th>43</th>\n      <td>53</td>\n      <td>0</td>\n      <td>0</td>\n      <td>130</td>\n      <td>264</td>\n      <td>0</td>\n      <td>0</td>\n      <td>143</td>\n      <td>0</td>\n      <td>0.4</td>\n      <td>1</td>\n      <td>0</td>\n      <td>2</td>\n      <td>1</td>\n    </tr>\n    <tr>\n      <th>44</th>\n      <td>39</td>\n      <td>1</td>\n      <td>2</td>\n      <td>140</td>\n      <td>321</td>\n      <td>0</td>\n      <td>0</td>\n      <td>182</td>\n      <td>0</td>\n      <td>0.0</td>\n      <td>2</td>\n      <td>0</td>\n      <td>2</td>\n      <td>1</td>\n    </tr>\n    <tr>\n      <th>45</th>\n      <td>52</td>\n      <td>1</td>\n      <td>1</td>\n      <td>120</td>\n      <td>325</td>\n      <td>0</td>\n      <td>1</td>\n      <td>172</td>\n      <td>0</td>\n      <td>0.2</td>\n      <td>2</td>\n      <td>0</td>\n      <td>2</td>\n      <td>1</td>\n    </tr>\n    <tr>\n      <th>46</th>\n      <td>44</td>\n      <td>1</td>\n      <td>2</td>\n      <td>140</td>\n      <td>235</td>\n      <td>0</td>\n      <td>0</td>\n      <td>180</td>\n      <td>0</td>\n      <td>0.0</td>\n      <td>2</td>\n      <td>0</td>\n      <td>2</td>\n      <td>1</td>\n    </tr>\n    <tr>\n      <th>47</th>\n      <td>47</td>\n      <td>1</td>\n      <td>2</td>\n      <td>138</td>\n      <td>257</td>\n      <td>0</td>\n      <td>0</td>\n      <td>156</td>\n      <td>0</td>\n      <td>0.0</td>\n      <td>2</td>\n      <td>0</td>\n      <td>2</td>\n      <td>1</td>\n    </tr>\n    <tr>\n      <th>48</th>\n      <td>53</td>\n      <td>0</td>\n      <td>2</td>\n      <td>128</td>\n      <td>216</td>\n      <td>0</td>\n      <td>0</td>\n      <td>115</td>\n      <td>0</td>\n      <td>0.0</td>\n      <td>2</td>\n      <td>0</td>\n      <td>0</td>\n      <td>1</td>\n    </tr>\n    <tr>\n      <th>49</th>\n      <td>53</td>\n      <td>0</td>\n      <td>0</td>\n      <td>138</td>\n      <td>234</td>\n      <td>0</td>\n      <td>0</td>\n      <td>160</td>\n      <td>0</td>\n      <td>0.0</td>\n      <td>2</td>\n      <td>0</td>\n      <td>2</td>\n      <td>1</td>\n    </tr>\n  </tbody>\n</table>\n</div>"
     },
     "metadata": {},
     "execution_count": 6
    }
   ],
   "source": [
    "heartdf.head(50)\n"
   ]
  },
  {
   "cell_type": "code",
   "execution_count": 7,
   "metadata": {},
   "outputs": [
    {
     "output_type": "execute_result",
     "data": {
      "text/plain": [
       "Index(['age', 'sex', 'chest_pain_type', 'resting_bp', 'chol', 'fbs',\n",
       "       'fasting_blood_sugar', 'max_heart_rate', 'exercise_reduced_angina',\n",
       "       'oldpeak', 'slope', 'ca', 'thal', 'target'],\n",
       "      dtype='object')"
      ]
     },
     "metadata": {},
     "execution_count": 7
    }
   ],
   "source": [
    "heartdf.columns"
   ]
  },
  {
   "cell_type": "code",
   "execution_count": 8,
   "metadata": {},
   "outputs": [
    {
     "output_type": "execute_result",
     "data": {
      "text/plain": [
       "1    165\n",
       "0    138\n",
       "Name: target, dtype: int64"
      ]
     },
     "metadata": {},
     "execution_count": 8
    }
   ],
   "source": [
    "heartdf['target'].value_counts()"
   ]
  },
  {
   "cell_type": "code",
   "execution_count": 9,
   "metadata": {},
   "outputs": [
    {
     "output_type": "execute_result",
     "data": {
      "text/plain": [
       "58    19\n",
       "57    17\n",
       "54    16\n",
       "59    14\n",
       "52    13\n",
       "51    12\n",
       "62    11\n",
       "60    11\n",
       "44    11\n",
       "56    11\n",
       "41    10\n",
       "64    10\n",
       "63     9\n",
       "67     9\n",
       "65     8\n",
       "55     8\n",
       "61     8\n",
       "53     8\n",
       "45     8\n",
       "43     8\n",
       "42     8\n",
       "50     7\n",
       "66     7\n",
       "48     7\n",
       "46     7\n",
       "49     5\n",
       "47     5\n",
       "70     4\n",
       "39     4\n",
       "68     4\n",
       "35     4\n",
       "69     3\n",
       "40     3\n",
       "38     3\n",
       "71     3\n",
       "37     2\n",
       "34     2\n",
       "76     1\n",
       "29     1\n",
       "74     1\n",
       "77     1\n",
       "Name: age, dtype: int64"
      ]
     },
     "metadata": {},
     "execution_count": 9
    }
   ],
   "source": [
    "heartdf['age'].value_counts()"
   ]
  },
  {
   "cell_type": "code",
   "execution_count": 10,
   "metadata": {},
   "outputs": [],
   "source": [
    "#Creating features for Logistic Regression"
   ]
  },
  {
   "cell_type": "code",
   "execution_count": 11,
   "metadata": {},
   "outputs": [],
   "source": [
    "#Features are age, resting_bp, cholestoral and maximum heart rate"
   ]
  },
  {
   "cell_type": "code",
   "execution_count": 12,
   "metadata": {},
   "outputs": [
    {
     "output_type": "execute_result",
     "data": {
      "text/plain": [
       "[[63, 145, 233, 150],\n",
       " [37, 130, 250, 187],\n",
       " [41, 130, 204, 172],\n",
       " [56, 120, 236, 178],\n",
       " [57, 120, 354, 163],\n",
       " [57, 140, 192, 148],\n",
       " [56, 140, 294, 153],\n",
       " [44, 120, 263, 173],\n",
       " [52, 172, 199, 162],\n",
       " [57, 150, 168, 174],\n",
       " [54, 140, 239, 160],\n",
       " [48, 130, 275, 139],\n",
       " [49, 130, 266, 171],\n",
       " [64, 110, 211, 144],\n",
       " [58, 150, 283, 162],\n",
       " [50, 120, 219, 158],\n",
       " [58, 120, 340, 172],\n",
       " [66, 150, 226, 114],\n",
       " [43, 150, 247, 171],\n",
       " [69, 140, 239, 151],\n",
       " [59, 135, 234, 161],\n",
       " [44, 130, 233, 179],\n",
       " [42, 140, 226, 178],\n",
       " [61, 150, 243, 137],\n",
       " [40, 140, 199, 178],\n",
       " [71, 160, 302, 162],\n",
       " [59, 150, 212, 157],\n",
       " [51, 110, 175, 123],\n",
       " [65, 140, 417, 157],\n",
       " [53, 130, 197, 152],\n",
       " [41, 105, 198, 168],\n",
       " [65, 120, 177, 140],\n",
       " [44, 130, 219, 188],\n",
       " [54, 125, 273, 152],\n",
       " [51, 125, 213, 125],\n",
       " [46, 142, 177, 160],\n",
       " [54, 135, 304, 170],\n",
       " [54, 150, 232, 165],\n",
       " [65, 155, 269, 148],\n",
       " [65, 160, 360, 151],\n",
       " [51, 140, 308, 142],\n",
       " [48, 130, 245, 180],\n",
       " [45, 104, 208, 148],\n",
       " [53, 130, 264, 143],\n",
       " [39, 140, 321, 182],\n",
       " [52, 120, 325, 172],\n",
       " [44, 140, 235, 180],\n",
       " [47, 138, 257, 156],\n",
       " [53, 128, 216, 115],\n",
       " [53, 138, 234, 160],\n",
       " [51, 130, 256, 149],\n",
       " [66, 120, 302, 151],\n",
       " [62, 130, 231, 146],\n",
       " [44, 108, 141, 175],\n",
       " [63, 135, 252, 172],\n",
       " [52, 134, 201, 158],\n",
       " [48, 122, 222, 186],\n",
       " [45, 115, 260, 185],\n",
       " [34, 118, 182, 174],\n",
       " [57, 128, 303, 159],\n",
       " [71, 110, 265, 130],\n",
       " [54, 108, 309, 156],\n",
       " [52, 118, 186, 190],\n",
       " [41, 135, 203, 132],\n",
       " [58, 140, 211, 165],\n",
       " [35, 138, 183, 182],\n",
       " [51, 100, 222, 143],\n",
       " [45, 130, 234, 175],\n",
       " [44, 120, 220, 170],\n",
       " [62, 124, 209, 163],\n",
       " [54, 120, 258, 147],\n",
       " [51, 94, 227, 154],\n",
       " [29, 130, 204, 202],\n",
       " [51, 140, 261, 186],\n",
       " [43, 122, 213, 165],\n",
       " [55, 135, 250, 161],\n",
       " [51, 125, 245, 166],\n",
       " [59, 140, 221, 164],\n",
       " [52, 128, 205, 184],\n",
       " [58, 105, 240, 154],\n",
       " [41, 112, 250, 179],\n",
       " [45, 128, 308, 170],\n",
       " [60, 102, 318, 160],\n",
       " [52, 152, 298, 178],\n",
       " [42, 102, 265, 122],\n",
       " [67, 115, 564, 160],\n",
       " [68, 118, 277, 151],\n",
       " [46, 101, 197, 156],\n",
       " [54, 110, 214, 158],\n",
       " [58, 100, 248, 122],\n",
       " [48, 124, 255, 175],\n",
       " [57, 132, 207, 168],\n",
       " [52, 138, 223, 169],\n",
       " [54, 132, 288, 159],\n",
       " [45, 112, 160, 138],\n",
       " [53, 142, 226, 111],\n",
       " [62, 140, 394, 157],\n",
       " [52, 108, 233, 147],\n",
       " [43, 130, 315, 162],\n",
       " [53, 130, 246, 173],\n",
       " [42, 148, 244, 178],\n",
       " [59, 178, 270, 145],\n",
       " [63, 140, 195, 179],\n",
       " [42, 120, 240, 194],\n",
       " [50, 129, 196, 163],\n",
       " [68, 120, 211, 115],\n",
       " [69, 160, 234, 131],\n",
       " [45, 138, 236, 152],\n",
       " [50, 120, 244, 162],\n",
       " [50, 110, 254, 159],\n",
       " [64, 180, 325, 154],\n",
       " [57, 150, 126, 173],\n",
       " [64, 140, 313, 133],\n",
       " [43, 110, 211, 161],\n",
       " [55, 130, 262, 155],\n",
       " [37, 120, 215, 170],\n",
       " [41, 130, 214, 168],\n",
       " [56, 120, 193, 162],\n",
       " [46, 105, 204, 172],\n",
       " [46, 138, 243, 152],\n",
       " [64, 130, 303, 122],\n",
       " [59, 138, 271, 182],\n",
       " [41, 112, 268, 172],\n",
       " [54, 108, 267, 167],\n",
       " [39, 94, 199, 179],\n",
       " [34, 118, 210, 192],\n",
       " [47, 112, 204, 143],\n",
       " [67, 152, 277, 172],\n",
       " [52, 136, 196, 169],\n",
       " [74, 120, 269, 121],\n",
       " [54, 160, 201, 163],\n",
       " [49, 134, 271, 162],\n",
       " [42, 120, 295, 162],\n",
       " [41, 110, 235, 153],\n",
       " [41, 126, 306, 163],\n",
       " [49, 130, 269, 163],\n",
       " [60, 120, 178, 96],\n",
       " [62, 128, 208, 140],\n",
       " [57, 110, 201, 126],\n",
       " [64, 128, 263, 105],\n",
       " [51, 120, 295, 157],\n",
       " [43, 115, 303, 181],\n",
       " [42, 120, 209, 173],\n",
       " [67, 106, 223, 142],\n",
       " [76, 140, 197, 116],\n",
       " [70, 156, 245, 143],\n",
       " [44, 118, 242, 149],\n",
       " [60, 150, 240, 171],\n",
       " [44, 120, 226, 169],\n",
       " [42, 130, 180, 150],\n",
       " [66, 160, 228, 138],\n",
       " [71, 112, 149, 125],\n",
       " [64, 170, 227, 155],\n",
       " [66, 146, 278, 152],\n",
       " [39, 138, 220, 152],\n",
       " [58, 130, 197, 131],\n",
       " [47, 130, 253, 179],\n",
       " [35, 122, 192, 174],\n",
       " [58, 125, 220, 144],\n",
       " [56, 130, 221, 163],\n",
       " [56, 120, 240, 169],\n",
       " [55, 132, 342, 166],\n",
       " [41, 120, 157, 182],\n",
       " [38, 138, 175, 173],\n",
       " [38, 138, 175, 173],\n",
       " [67, 160, 286, 108],\n",
       " [67, 120, 229, 129],\n",
       " [62, 140, 268, 160],\n",
       " [63, 130, 254, 147],\n",
       " [53, 140, 203, 155],\n",
       " [56, 130, 256, 142],\n",
       " [48, 110, 229, 168],\n",
       " [58, 120, 284, 160],\n",
       " [58, 132, 224, 173],\n",
       " [60, 130, 206, 132],\n",
       " [40, 110, 167, 114],\n",
       " [60, 117, 230, 160],\n",
       " [64, 140, 335, 158],\n",
       " [43, 120, 177, 120],\n",
       " [57, 150, 276, 112],\n",
       " [55, 132, 353, 132],\n",
       " [65, 150, 225, 114],\n",
       " [61, 130, 330, 169],\n",
       " [58, 112, 230, 165],\n",
       " [50, 150, 243, 128],\n",
       " [44, 112, 290, 153],\n",
       " [60, 130, 253, 144],\n",
       " [54, 124, 266, 109],\n",
       " [50, 140, 233, 163],\n",
       " [41, 110, 172, 158],\n",
       " [51, 130, 305, 142],\n",
       " [58, 128, 216, 131],\n",
       " [54, 120, 188, 113],\n",
       " [60, 145, 282, 142],\n",
       " [60, 140, 185, 155],\n",
       " [59, 170, 326, 140],\n",
       " [46, 150, 231, 147],\n",
       " [67, 125, 254, 163],\n",
       " [62, 120, 267, 99],\n",
       " [65, 110, 248, 158],\n",
       " [44, 110, 197, 177],\n",
       " [60, 125, 258, 141],\n",
       " [58, 150, 270, 111],\n",
       " [68, 180, 274, 150],\n",
       " [62, 160, 164, 145],\n",
       " [52, 128, 255, 161],\n",
       " [59, 110, 239, 142],\n",
       " [60, 150, 258, 157],\n",
       " [49, 120, 188, 139],\n",
       " [59, 140, 177, 162],\n",
       " [57, 128, 229, 150],\n",
       " [61, 120, 260, 140],\n",
       " [39, 118, 219, 140],\n",
       " [61, 145, 307, 146],\n",
       " [56, 125, 249, 144],\n",
       " [43, 132, 341, 136],\n",
       " [62, 130, 263, 97],\n",
       " [63, 130, 330, 132],\n",
       " [65, 135, 254, 127],\n",
       " [48, 130, 256, 150],\n",
       " [63, 150, 407, 154],\n",
       " [55, 140, 217, 111],\n",
       " [65, 138, 282, 174],\n",
       " [56, 200, 288, 133],\n",
       " [54, 110, 239, 126],\n",
       " [70, 145, 174, 125],\n",
       " [62, 120, 281, 103],\n",
       " [35, 120, 198, 130],\n",
       " [59, 170, 288, 159],\n",
       " [64, 125, 309, 131],\n",
       " [47, 108, 243, 152],\n",
       " [57, 165, 289, 124],\n",
       " [55, 160, 289, 145],\n",
       " [64, 120, 246, 96],\n",
       " [70, 130, 322, 109],\n",
       " [51, 140, 299, 173],\n",
       " [58, 125, 300, 171],\n",
       " [60, 140, 293, 170],\n",
       " [77, 125, 304, 162],\n",
       " [35, 126, 282, 156],\n",
       " [70, 160, 269, 112],\n",
       " [59, 174, 249, 143],\n",
       " [64, 145, 212, 132],\n",
       " [57, 152, 274, 88],\n",
       " [56, 132, 184, 105],\n",
       " [48, 124, 274, 166],\n",
       " [56, 134, 409, 150],\n",
       " [66, 160, 246, 120],\n",
       " [54, 192, 283, 195],\n",
       " [69, 140, 254, 146],\n",
       " [51, 140, 298, 122],\n",
       " [43, 132, 247, 143],\n",
       " [62, 138, 294, 106],\n",
       " [67, 100, 299, 125],\n",
       " [59, 160, 273, 125],\n",
       " [45, 142, 309, 147],\n",
       " [58, 128, 259, 130],\n",
       " [50, 144, 200, 126],\n",
       " [62, 150, 244, 154],\n",
       " [38, 120, 231, 182],\n",
       " [66, 178, 228, 165],\n",
       " [52, 112, 230, 160],\n",
       " [53, 123, 282, 95],\n",
       " [63, 108, 269, 169],\n",
       " [54, 110, 206, 108],\n",
       " [66, 112, 212, 132],\n",
       " [55, 180, 327, 117],\n",
       " [49, 118, 149, 126],\n",
       " [54, 122, 286, 116],\n",
       " [56, 130, 283, 103],\n",
       " [46, 120, 249, 144],\n",
       " [61, 134, 234, 145],\n",
       " [67, 120, 237, 71],\n",
       " [58, 100, 234, 156],\n",
       " [47, 110, 275, 118],\n",
       " [52, 125, 212, 168],\n",
       " [58, 146, 218, 105],\n",
       " [57, 124, 261, 141],\n",
       " [58, 136, 319, 152],\n",
       " [61, 138, 166, 125],\n",
       " [42, 136, 315, 125],\n",
       " [52, 128, 204, 156],\n",
       " [59, 126, 218, 134],\n",
       " [40, 152, 223, 181],\n",
       " [61, 140, 207, 138],\n",
       " [46, 140, 311, 120],\n",
       " [59, 134, 204, 162],\n",
       " [57, 154, 232, 164],\n",
       " [57, 110, 335, 143],\n",
       " [55, 128, 205, 130],\n",
       " [61, 148, 203, 161],\n",
       " [58, 114, 318, 140],\n",
       " [58, 170, 225, 146],\n",
       " [67, 152, 212, 150],\n",
       " [44, 120, 169, 144],\n",
       " [63, 140, 187, 144],\n",
       " [63, 124, 197, 136],\n",
       " [59, 164, 176, 90],\n",
       " [57, 140, 241, 123],\n",
       " [45, 110, 264, 132],\n",
       " [68, 144, 193, 141],\n",
       " [57, 130, 131, 115],\n",
       " [57, 130, 236, 174]]"
      ]
     },
     "metadata": {},
     "execution_count": 12
    }
   ],
   "source": [
    "my_x=heartdf[['age','resting_bp','chol','max_heart_rate']].values.tolist()\n",
    "my_x"
   ]
  },
  {
   "cell_type": "code",
   "execution_count": 13,
   "metadata": {},
   "outputs": [
    {
     "output_type": "execute_result",
     "data": {
      "text/plain": [
       "[1,\n",
       " 1,\n",
       " 1,\n",
       " 1,\n",
       " 1,\n",
       " 1,\n",
       " 1,\n",
       " 1,\n",
       " 1,\n",
       " 1,\n",
       " 1,\n",
       " 1,\n",
       " 1,\n",
       " 1,\n",
       " 1,\n",
       " 1,\n",
       " 1,\n",
       " 1,\n",
       " 1,\n",
       " 1,\n",
       " 1,\n",
       " 1,\n",
       " 1,\n",
       " 1,\n",
       " 1,\n",
       " 1,\n",
       " 1,\n",
       " 1,\n",
       " 1,\n",
       " 1,\n",
       " 1,\n",
       " 1,\n",
       " 1,\n",
       " 1,\n",
       " 1,\n",
       " 1,\n",
       " 1,\n",
       " 1,\n",
       " 1,\n",
       " 1,\n",
       " 1,\n",
       " 1,\n",
       " 1,\n",
       " 1,\n",
       " 1,\n",
       " 1,\n",
       " 1,\n",
       " 1,\n",
       " 1,\n",
       " 1,\n",
       " 1,\n",
       " 1,\n",
       " 1,\n",
       " 1,\n",
       " 1,\n",
       " 1,\n",
       " 1,\n",
       " 1,\n",
       " 1,\n",
       " 1,\n",
       " 1,\n",
       " 1,\n",
       " 1,\n",
       " 1,\n",
       " 1,\n",
       " 1,\n",
       " 1,\n",
       " 1,\n",
       " 1,\n",
       " 1,\n",
       " 1,\n",
       " 1,\n",
       " 1,\n",
       " 1,\n",
       " 1,\n",
       " 1,\n",
       " 1,\n",
       " 1,\n",
       " 1,\n",
       " 1,\n",
       " 1,\n",
       " 1,\n",
       " 1,\n",
       " 1,\n",
       " 1,\n",
       " 1,\n",
       " 1,\n",
       " 1,\n",
       " 1,\n",
       " 1,\n",
       " 1,\n",
       " 1,\n",
       " 1,\n",
       " 1,\n",
       " 1,\n",
       " 1,\n",
       " 1,\n",
       " 1,\n",
       " 1,\n",
       " 1,\n",
       " 1,\n",
       " 1,\n",
       " 1,\n",
       " 1,\n",
       " 1,\n",
       " 1,\n",
       " 1,\n",
       " 1,\n",
       " 1,\n",
       " 1,\n",
       " 1,\n",
       " 1,\n",
       " 1,\n",
       " 1,\n",
       " 1,\n",
       " 1,\n",
       " 1,\n",
       " 1,\n",
       " 1,\n",
       " 1,\n",
       " 1,\n",
       " 1,\n",
       " 1,\n",
       " 1,\n",
       " 1,\n",
       " 1,\n",
       " 1,\n",
       " 1,\n",
       " 1,\n",
       " 1,\n",
       " 1,\n",
       " 1,\n",
       " 1,\n",
       " 1,\n",
       " 1,\n",
       " 1,\n",
       " 1,\n",
       " 1,\n",
       " 1,\n",
       " 1,\n",
       " 1,\n",
       " 1,\n",
       " 1,\n",
       " 1,\n",
       " 1,\n",
       " 1,\n",
       " 1,\n",
       " 1,\n",
       " 1,\n",
       " 1,\n",
       " 1,\n",
       " 1,\n",
       " 1,\n",
       " 1,\n",
       " 1,\n",
       " 1,\n",
       " 1,\n",
       " 1,\n",
       " 1,\n",
       " 1,\n",
       " 1,\n",
       " 1,\n",
       " 1,\n",
       " 1,\n",
       " 1,\n",
       " 0,\n",
       " 0,\n",
       " 0,\n",
       " 0,\n",
       " 0,\n",
       " 0,\n",
       " 0,\n",
       " 0,\n",
       " 0,\n",
       " 0,\n",
       " 0,\n",
       " 0,\n",
       " 0,\n",
       " 0,\n",
       " 0,\n",
       " 0,\n",
       " 0,\n",
       " 0,\n",
       " 0,\n",
       " 0,\n",
       " 0,\n",
       " 0,\n",
       " 0,\n",
       " 0,\n",
       " 0,\n",
       " 0,\n",
       " 0,\n",
       " 0,\n",
       " 0,\n",
       " 0,\n",
       " 0,\n",
       " 0,\n",
       " 0,\n",
       " 0,\n",
       " 0,\n",
       " 0,\n",
       " 0,\n",
       " 0,\n",
       " 0,\n",
       " 0,\n",
       " 0,\n",
       " 0,\n",
       " 0,\n",
       " 0,\n",
       " 0,\n",
       " 0,\n",
       " 0,\n",
       " 0,\n",
       " 0,\n",
       " 0,\n",
       " 0,\n",
       " 0,\n",
       " 0,\n",
       " 0,\n",
       " 0,\n",
       " 0,\n",
       " 0,\n",
       " 0,\n",
       " 0,\n",
       " 0,\n",
       " 0,\n",
       " 0,\n",
       " 0,\n",
       " 0,\n",
       " 0,\n",
       " 0,\n",
       " 0,\n",
       " 0,\n",
       " 0,\n",
       " 0,\n",
       " 0,\n",
       " 0,\n",
       " 0,\n",
       " 0,\n",
       " 0,\n",
       " 0,\n",
       " 0,\n",
       " 0,\n",
       " 0,\n",
       " 0,\n",
       " 0,\n",
       " 0,\n",
       " 0,\n",
       " 0,\n",
       " 0,\n",
       " 0,\n",
       " 0,\n",
       " 0,\n",
       " 0,\n",
       " 0,\n",
       " 0,\n",
       " 0,\n",
       " 0,\n",
       " 0,\n",
       " 0,\n",
       " 0,\n",
       " 0,\n",
       " 0,\n",
       " 0,\n",
       " 0,\n",
       " 0,\n",
       " 0,\n",
       " 0,\n",
       " 0,\n",
       " 0,\n",
       " 0,\n",
       " 0,\n",
       " 0,\n",
       " 0,\n",
       " 0,\n",
       " 0,\n",
       " 0,\n",
       " 0,\n",
       " 0,\n",
       " 0,\n",
       " 0,\n",
       " 0,\n",
       " 0,\n",
       " 0,\n",
       " 0,\n",
       " 0,\n",
       " 0,\n",
       " 0,\n",
       " 0,\n",
       " 0,\n",
       " 0,\n",
       " 0,\n",
       " 0,\n",
       " 0,\n",
       " 0,\n",
       " 0,\n",
       " 0,\n",
       " 0,\n",
       " 0,\n",
       " 0,\n",
       " 0,\n",
       " 0,\n",
       " 0]"
      ]
     },
     "metadata": {},
     "execution_count": 13
    }
   ],
   "source": [
    "my_y=heartdf['target'].values.tolist()\n",
    "my_y"
   ]
  },
  {
   "cell_type": "code",
   "execution_count": 14,
   "metadata": {},
   "outputs": [],
   "source": [
    "from sklearn.model_selection import train_test_split\n",
    "\n",
    "X_train, X_test, y_train, y_test = train_test_split(my_x, my_y, test_size=0.2, random_state=42)"
   ]
  },
  {
   "cell_type": "markdown",
   "metadata": {},
   "source": [
    "#Create a Logistic Regression Model"
   ]
  },
  {
   "cell_type": "code",
   "execution_count": 15,
   "metadata": {},
   "outputs": [
    {
     "output_type": "execute_result",
     "data": {
      "text/plain": [
       "LogisticRegression(C=1.0, class_weight=None, dual=False, fit_intercept=True,\n",
       "                   intercept_scaling=1, l1_ratio=None, max_iter=100,\n",
       "                   multi_class='auto', n_jobs=None, penalty='l2',\n",
       "                   random_state=None, solver='lbfgs', tol=0.0001, verbose=0,\n",
       "                   warm_start=False)"
      ]
     },
     "metadata": {},
     "execution_count": 15
    }
   ],
   "source": [
    "from sklearn.linear_model import LogisticRegression\n",
    "classifier = LogisticRegression()\n",
    "classifier"
   ]
  },
  {
   "cell_type": "markdown",
   "metadata": {},
   "source": [
    "#Fit (train) or model using the training data"
   ]
  },
  {
   "cell_type": "code",
   "execution_count": 16,
   "metadata": {},
   "outputs": [
    {
     "output_type": "execute_result",
     "data": {
      "text/plain": [
       "LogisticRegression(C=1.0, class_weight=None, dual=False, fit_intercept=True,\n",
       "                   intercept_scaling=1, l1_ratio=None, max_iter=100,\n",
       "                   multi_class='auto', n_jobs=None, penalty='l2',\n",
       "                   random_state=None, solver='lbfgs', tol=0.0001, verbose=0,\n",
       "                   warm_start=False)"
      ]
     },
     "metadata": {},
     "execution_count": 16
    }
   ],
   "source": [
    "classifier.fit(X_train, y_train)"
   ]
  },
  {
   "cell_type": "markdown",
   "metadata": {},
   "source": [
    "#Validate the model using the test data"
   ]
  },
  {
   "cell_type": "code",
   "execution_count": 17,
   "metadata": {},
   "outputs": [
    {
     "output_type": "stream",
     "name": "stdout",
     "text": [
      "Training Data Score: 0.6694214876033058\nTesting Data Score: 0.7704918032786885\n"
     ]
    }
   ],
   "source": [
    "print(f\"Training Data Score: {classifier.score(X_train, y_train)}\")\n",
    "print(f\"Testing Data Score: {classifier.score(X_test, y_test)}\")"
   ]
  },
  {
   "cell_type": "code",
   "execution_count": 18,
   "metadata": {},
   "outputs": [
    {
     "output_type": "stream",
     "name": "stdout",
     "text": [
      "Model is saved.\n"
     ]
    }
   ],
   "source": [
    "from sklearn.externals import joblib\n",
    "# serialize model\n",
    "joblib.dump(classifier, 'heart.model')\n",
    "print(\"Model is saved.\")"
   ]
  },
  {
   "cell_type": "code",
   "execution_count": 19,
   "metadata": {},
   "outputs": [],
   "source": [
    "classifier = joblib.load('heart.model')"
   ]
  },
  {
   "cell_type": "code",
   "execution_count": 20,
   "metadata": {},
   "outputs": [
    {
     "output_type": "execute_result",
     "data": {
      "text/plain": [
       "array([1])"
      ]
     },
     "metadata": {},
     "execution_count": 20
    }
   ],
   "source": [
    "#Make predictions\n",
    "new_data = np.array([[50,140,219,168]])\n",
    "classifier.predict(new_data)"
   ]
  },
  {
   "cell_type": "code",
   "execution_count": 21,
   "metadata": {},
   "outputs": [
    {
     "output_type": "execute_result",
     "data": {
      "text/plain": [
       "1"
      ]
     },
     "metadata": {},
     "execution_count": 21
    }
   ],
   "source": [
    "classifier.predict([[50, 140, 219, 169]])[0]"
   ]
  },
  {
   "cell_type": "code",
   "execution_count": 22,
   "metadata": {},
   "outputs": [],
   "source": [
    "#Graphs and Visualisations"
   ]
  },
  {
   "cell_type": "code",
   "execution_count": 23,
   "metadata": {},
   "outputs": [],
   "source": [
    "\n",
    "X=heartdf.drop(columns=['sex', 'chest_pain_type','chol', 'fbs',\n",
    "       'fasting_blood_sugar', 'max_heart_rate', 'exercise_reduced_angina',\n",
    "       'oldpeak', 'slope', 'ca', 'thal'])\n"
   ]
  },
  {
   "cell_type": "code",
   "execution_count": 24,
   "metadata": {},
   "outputs": [],
   "source": [
    "X1=X[X.target==1]\n",
    "X0=X[X.target==0]"
   ]
  },
  {
   "cell_type": "code",
   "execution_count": 25,
   "metadata": {},
   "outputs": [],
   "source": [
    "\n",
    "x0=[x[0] for x in my_x]\n",
    "x1=[x[1] for x in my_x]"
   ]
  },
  {
   "cell_type": "code",
   "execution_count": 26,
   "metadata": {},
   "outputs": [
    {
     "output_type": "execute_result",
     "data": {
      "text/plain": [
       "<matplotlib.collections.PathCollection at 0x1b3ee2ace48>"
      ]
     },
     "metadata": {},
     "execution_count": 26
    },
    {
     "output_type": "display_data",
     "data": {
      "text/plain": "<Figure size 432x288 with 1 Axes>",
      "image/svg+xml": "<?xml version=\"1.0\" encoding=\"utf-8\" standalone=\"no\"?>\r\n<!DOCTYPE svg PUBLIC \"-//W3C//DTD SVG 1.1//EN\"\r\n  \"http://www.w3.org/Graphics/SVG/1.1/DTD/svg11.dtd\">\r\n<!-- Created with matplotlib (https://matplotlib.org/) -->\r\n<svg height=\"277.314375pt\" version=\"1.1\" viewBox=\"0 0 388.965625 277.314375\" width=\"388.965625pt\" xmlns=\"http://www.w3.org/2000/svg\" xmlns:xlink=\"http://www.w3.org/1999/xlink\">\r\n <metadata>\r\n  <rdf:RDF xmlns:cc=\"http://creativecommons.org/ns#\" xmlns:dc=\"http://purl.org/dc/elements/1.1/\" xmlns:rdf=\"http://www.w3.org/1999/02/22-rdf-syntax-ns#\">\r\n   <cc:Work>\r\n    <dc:type rdf:resource=\"http://purl.org/dc/dcmitype/StillImage\"/>\r\n    <dc:date>2021-02-17T20:18:56.244086</dc:date>\r\n    <dc:format>image/svg+xml</dc:format>\r\n    <dc:creator>\r\n     <cc:Agent>\r\n      <dc:title>Matplotlib v3.3.4, https://matplotlib.org/</dc:title>\r\n     </cc:Agent>\r\n    </dc:creator>\r\n   </cc:Work>\r\n  </rdf:RDF>\r\n </metadata>\r\n <defs>\r\n  <style type=\"text/css\">*{stroke-linecap:butt;stroke-linejoin:round;}</style>\r\n </defs>\r\n <g id=\"figure_1\">\r\n  <g id=\"patch_1\">\r\n   <path d=\"M 0 277.314375 \r\nL 388.965625 277.314375 \r\nL 388.965625 0 \r\nL 0 0 \r\nz\r\n\" style=\"fill:none;\"/>\r\n  </g>\r\n  <g id=\"axes_1\">\r\n   <g id=\"patch_2\">\r\n    <path d=\"M 46.965625 239.758125 \r\nL 381.765625 239.758125 \r\nL 381.765625 22.318125 \r\nL 46.965625 22.318125 \r\nz\r\n\" style=\"fill:#ffffff;\"/>\r\n   </g>\r\n   <g id=\"PathCollection_1\">\r\n    <defs>\r\n     <path d=\"M 0 3 \r\nC 0.795609 3 1.55874 2.683901 2.12132 2.12132 \r\nC 2.683901 1.55874 3 0.795609 3 0 \r\nC 3 -0.795609 2.683901 -1.55874 2.12132 -2.12132 \r\nC 1.55874 -2.683901 0.795609 -3 0 -3 \r\nC -0.795609 -3 -1.55874 -2.683901 -2.12132 -2.12132 \r\nC -2.683901 -1.55874 -3 -0.795609 -3 0 \r\nC -3 0.795609 -2.683901 1.55874 -2.12132 2.12132 \r\nC -1.55874 2.683901 -0.795609 3 0 3 \r\nz\r\n\" id=\"mffa85d14c8\" style=\"stroke:#bfbf00;\"/>\r\n    </defs>\r\n    <g clip-path=\"url(#p10e1e10f77)\">\r\n     <use style=\"fill:#bfbf00;stroke:#bfbf00;\" x=\"277.774716\" xlink:href=\"#mffa85d14c8\" y=\"134.767799\"/>\r\n     <use style=\"fill:#bfbf00;stroke:#bfbf00;\" x=\"112.91108\" xlink:href=\"#mffa85d14c8\" y=\"162.740355\"/>\r\n     <use style=\"fill:#bfbf00;stroke:#bfbf00;\" x=\"138.274716\" xlink:href=\"#mffa85d14c8\" y=\"162.740355\"/>\r\n     <use style=\"fill:#bfbf00;stroke:#bfbf00;\" x=\"233.388352\" xlink:href=\"#mffa85d14c8\" y=\"181.388725\"/>\r\n     <use style=\"fill:#bfbf00;stroke:#bfbf00;\" x=\"239.729261\" xlink:href=\"#mffa85d14c8\" y=\"181.388725\"/>\r\n     <use style=\"fill:#bfbf00;stroke:#bfbf00;\" x=\"239.729261\" xlink:href=\"#mffa85d14c8\" y=\"144.091984\"/>\r\n     <use style=\"fill:#bfbf00;stroke:#bfbf00;\" x=\"233.388352\" xlink:href=\"#mffa85d14c8\" y=\"144.091984\"/>\r\n     <use style=\"fill:#bfbf00;stroke:#bfbf00;\" x=\"157.297443\" xlink:href=\"#mffa85d14c8\" y=\"181.388725\"/>\r\n     <use style=\"fill:#bfbf00;stroke:#bfbf00;\" x=\"208.024716\" xlink:href=\"#mffa85d14c8\" y=\"84.417199\"/>\r\n     <use style=\"fill:#bfbf00;stroke:#bfbf00;\" x=\"239.729261\" xlink:href=\"#mffa85d14c8\" y=\"125.443614\"/>\r\n     <use style=\"fill:#bfbf00;stroke:#bfbf00;\" x=\"220.706534\" xlink:href=\"#mffa85d14c8\" y=\"144.091984\"/>\r\n     <use style=\"fill:#bfbf00;stroke:#bfbf00;\" x=\"182.66108\" xlink:href=\"#mffa85d14c8\" y=\"162.740355\"/>\r\n     <use style=\"fill:#bfbf00;stroke:#bfbf00;\" x=\"189.001989\" xlink:href=\"#mffa85d14c8\" y=\"162.740355\"/>\r\n     <use style=\"fill:#bfbf00;stroke:#bfbf00;\" x=\"284.115625\" xlink:href=\"#mffa85d14c8\" y=\"200.037096\"/>\r\n     <use style=\"fill:#bfbf00;stroke:#bfbf00;\" x=\"246.07017\" xlink:href=\"#mffa85d14c8\" y=\"125.443614\"/>\r\n     <use style=\"fill:#bfbf00;stroke:#bfbf00;\" x=\"195.342898\" xlink:href=\"#mffa85d14c8\" y=\"181.388725\"/>\r\n     <use style=\"fill:#bfbf00;stroke:#bfbf00;\" x=\"246.07017\" xlink:href=\"#mffa85d14c8\" y=\"181.388725\"/>\r\n     <use style=\"fill:#bfbf00;stroke:#bfbf00;\" x=\"296.797443\" xlink:href=\"#mffa85d14c8\" y=\"125.443614\"/>\r\n     <use style=\"fill:#bfbf00;stroke:#bfbf00;\" x=\"150.956534\" xlink:href=\"#mffa85d14c8\" y=\"125.443614\"/>\r\n     <use style=\"fill:#bfbf00;stroke:#bfbf00;\" x=\"315.82017\" xlink:href=\"#mffa85d14c8\" y=\"144.091984\"/>\r\n     <use style=\"fill:#bfbf00;stroke:#bfbf00;\" x=\"252.41108\" xlink:href=\"#mffa85d14c8\" y=\"153.41617\"/>\r\n     <use style=\"fill:#bfbf00;stroke:#bfbf00;\" x=\"157.297443\" xlink:href=\"#mffa85d14c8\" y=\"162.740355\"/>\r\n     <use style=\"fill:#bfbf00;stroke:#bfbf00;\" x=\"144.615625\" xlink:href=\"#mffa85d14c8\" y=\"144.091984\"/>\r\n     <use style=\"fill:#bfbf00;stroke:#bfbf00;\" x=\"265.092898\" xlink:href=\"#mffa85d14c8\" y=\"125.443614\"/>\r\n     <use style=\"fill:#bfbf00;stroke:#bfbf00;\" x=\"131.933807\" xlink:href=\"#mffa85d14c8\" y=\"144.091984\"/>\r\n     <use style=\"fill:#bfbf00;stroke:#bfbf00;\" x=\"328.501989\" xlink:href=\"#mffa85d14c8\" y=\"106.795243\"/>\r\n     <use style=\"fill:#bfbf00;stroke:#bfbf00;\" x=\"252.41108\" xlink:href=\"#mffa85d14c8\" y=\"125.443614\"/>\r\n     <use style=\"fill:#bfbf00;stroke:#bfbf00;\" x=\"201.683807\" xlink:href=\"#mffa85d14c8\" y=\"200.037096\"/>\r\n     <use style=\"fill:#bfbf00;stroke:#bfbf00;\" x=\"290.456534\" xlink:href=\"#mffa85d14c8\" y=\"144.091984\"/>\r\n     <use style=\"fill:#bfbf00;stroke:#bfbf00;\" x=\"214.365625\" xlink:href=\"#mffa85d14c8\" y=\"162.740355\"/>\r\n     <use style=\"fill:#bfbf00;stroke:#bfbf00;\" x=\"138.274716\" xlink:href=\"#mffa85d14c8\" y=\"209.361281\"/>\r\n     <use style=\"fill:#bfbf00;stroke:#bfbf00;\" x=\"290.456534\" xlink:href=\"#mffa85d14c8\" y=\"181.388725\"/>\r\n     <use style=\"fill:#bfbf00;stroke:#bfbf00;\" x=\"157.297443\" xlink:href=\"#mffa85d14c8\" y=\"162.740355\"/>\r\n     <use style=\"fill:#bfbf00;stroke:#bfbf00;\" x=\"220.706534\" xlink:href=\"#mffa85d14c8\" y=\"172.06454\"/>\r\n     <use style=\"fill:#bfbf00;stroke:#bfbf00;\" x=\"201.683807\" xlink:href=\"#mffa85d14c8\" y=\"172.06454\"/>\r\n     <use style=\"fill:#bfbf00;stroke:#bfbf00;\" x=\"169.979261\" xlink:href=\"#mffa85d14c8\" y=\"140.36231\"/>\r\n     <use style=\"fill:#bfbf00;stroke:#bfbf00;\" x=\"220.706534\" xlink:href=\"#mffa85d14c8\" y=\"153.41617\"/>\r\n     <use style=\"fill:#bfbf00;stroke:#bfbf00;\" x=\"220.706534\" xlink:href=\"#mffa85d14c8\" y=\"125.443614\"/>\r\n     <use style=\"fill:#bfbf00;stroke:#bfbf00;\" x=\"290.456534\" xlink:href=\"#mffa85d14c8\" y=\"116.119429\"/>\r\n     <use style=\"fill:#bfbf00;stroke:#bfbf00;\" x=\"290.456534\" xlink:href=\"#mffa85d14c8\" y=\"106.795243\"/>\r\n     <use style=\"fill:#bfbf00;stroke:#bfbf00;\" x=\"201.683807\" xlink:href=\"#mffa85d14c8\" y=\"144.091984\"/>\r\n     <use style=\"fill:#bfbf00;stroke:#bfbf00;\" x=\"182.66108\" xlink:href=\"#mffa85d14c8\" y=\"162.740355\"/>\r\n     <use style=\"fill:#bfbf00;stroke:#bfbf00;\" x=\"163.638352\" xlink:href=\"#mffa85d14c8\" y=\"211.226118\"/>\r\n     <use style=\"fill:#bfbf00;stroke:#bfbf00;\" x=\"214.365625\" xlink:href=\"#mffa85d14c8\" y=\"162.740355\"/>\r\n     <use style=\"fill:#bfbf00;stroke:#bfbf00;\" x=\"125.592898\" xlink:href=\"#mffa85d14c8\" y=\"144.091984\"/>\r\n     <use style=\"fill:#bfbf00;stroke:#bfbf00;\" x=\"208.024716\" xlink:href=\"#mffa85d14c8\" y=\"181.388725\"/>\r\n     <use style=\"fill:#bfbf00;stroke:#bfbf00;\" x=\"157.297443\" xlink:href=\"#mffa85d14c8\" y=\"144.091984\"/>\r\n     <use style=\"fill:#bfbf00;stroke:#bfbf00;\" x=\"176.32017\" xlink:href=\"#mffa85d14c8\" y=\"147.821658\"/>\r\n     <use style=\"fill:#bfbf00;stroke:#bfbf00;\" x=\"214.365625\" xlink:href=\"#mffa85d14c8\" y=\"166.470029\"/>\r\n     <use style=\"fill:#bfbf00;stroke:#bfbf00;\" x=\"214.365625\" xlink:href=\"#mffa85d14c8\" y=\"147.821658\"/>\r\n     <use style=\"fill:#bfbf00;stroke:#bfbf00;\" x=\"201.683807\" xlink:href=\"#mffa85d14c8\" y=\"162.740355\"/>\r\n     <use style=\"fill:#bfbf00;stroke:#bfbf00;\" x=\"296.797443\" xlink:href=\"#mffa85d14c8\" y=\"181.388725\"/>\r\n     <use style=\"fill:#bfbf00;stroke:#bfbf00;\" x=\"271.433807\" xlink:href=\"#mffa85d14c8\" y=\"162.740355\"/>\r\n     <use style=\"fill:#bfbf00;stroke:#bfbf00;\" x=\"157.297443\" xlink:href=\"#mffa85d14c8\" y=\"203.76677\"/>\r\n     <use style=\"fill:#bfbf00;stroke:#bfbf00;\" x=\"277.774716\" xlink:href=\"#mffa85d14c8\" y=\"153.41617\"/>\r\n     <use style=\"fill:#bfbf00;stroke:#bfbf00;\" x=\"208.024716\" xlink:href=\"#mffa85d14c8\" y=\"155.281007\"/>\r\n     <use style=\"fill:#bfbf00;stroke:#bfbf00;\" x=\"182.66108\" xlink:href=\"#mffa85d14c8\" y=\"177.659051\"/>\r\n     <use style=\"fill:#bfbf00;stroke:#bfbf00;\" x=\"163.638352\" xlink:href=\"#mffa85d14c8\" y=\"190.712911\"/>\r\n     <use style=\"fill:#bfbf00;stroke:#bfbf00;\" x=\"93.888352\" xlink:href=\"#mffa85d14c8\" y=\"185.118399\"/>\r\n     <use style=\"fill:#bfbf00;stroke:#bfbf00;\" x=\"239.729261\" xlink:href=\"#mffa85d14c8\" y=\"166.470029\"/>\r\n     <use style=\"fill:#bfbf00;stroke:#bfbf00;\" x=\"328.501989\" xlink:href=\"#mffa85d14c8\" y=\"200.037096\"/>\r\n     <use style=\"fill:#bfbf00;stroke:#bfbf00;\" x=\"220.706534\" xlink:href=\"#mffa85d14c8\" y=\"203.76677\"/>\r\n     <use style=\"fill:#bfbf00;stroke:#bfbf00;\" x=\"208.024716\" xlink:href=\"#mffa85d14c8\" y=\"185.118399\"/>\r\n     <use style=\"fill:#bfbf00;stroke:#bfbf00;\" x=\"138.274716\" xlink:href=\"#mffa85d14c8\" y=\"153.41617\"/>\r\n     <use style=\"fill:#bfbf00;stroke:#bfbf00;\" x=\"246.07017\" xlink:href=\"#mffa85d14c8\" y=\"144.091984\"/>\r\n     <use style=\"fill:#bfbf00;stroke:#bfbf00;\" x=\"100.229261\" xlink:href=\"#mffa85d14c8\" y=\"147.821658\"/>\r\n     <use style=\"fill:#bfbf00;stroke:#bfbf00;\" x=\"201.683807\" xlink:href=\"#mffa85d14c8\" y=\"218.685466\"/>\r\n     <use style=\"fill:#bfbf00;stroke:#bfbf00;\" x=\"163.638352\" xlink:href=\"#mffa85d14c8\" y=\"162.740355\"/>\r\n     <use style=\"fill:#bfbf00;stroke:#bfbf00;\" x=\"157.297443\" xlink:href=\"#mffa85d14c8\" y=\"181.388725\"/>\r\n     <use style=\"fill:#bfbf00;stroke:#bfbf00;\" x=\"271.433807\" xlink:href=\"#mffa85d14c8\" y=\"173.929377\"/>\r\n     <use style=\"fill:#bfbf00;stroke:#bfbf00;\" x=\"220.706534\" xlink:href=\"#mffa85d14c8\" y=\"181.388725\"/>\r\n     <use style=\"fill:#bfbf00;stroke:#bfbf00;\" x=\"201.683807\" xlink:href=\"#mffa85d14c8\" y=\"229.874489\"/>\r\n     <use style=\"fill:#bfbf00;stroke:#bfbf00;\" x=\"62.183807\" xlink:href=\"#mffa85d14c8\" y=\"162.740355\"/>\r\n     <use style=\"fill:#bfbf00;stroke:#bfbf00;\" x=\"201.683807\" xlink:href=\"#mffa85d14c8\" y=\"144.091984\"/>\r\n     <use style=\"fill:#bfbf00;stroke:#bfbf00;\" x=\"150.956534\" xlink:href=\"#mffa85d14c8\" y=\"177.659051\"/>\r\n     <use style=\"fill:#bfbf00;stroke:#bfbf00;\" x=\"227.047443\" xlink:href=\"#mffa85d14c8\" y=\"153.41617\"/>\r\n     <use style=\"fill:#bfbf00;stroke:#bfbf00;\" x=\"201.683807\" xlink:href=\"#mffa85d14c8\" y=\"172.06454\"/>\r\n     <use style=\"fill:#bfbf00;stroke:#bfbf00;\" x=\"252.41108\" xlink:href=\"#mffa85d14c8\" y=\"144.091984\"/>\r\n     <use style=\"fill:#bfbf00;stroke:#bfbf00;\" x=\"208.024716\" xlink:href=\"#mffa85d14c8\" y=\"166.470029\"/>\r\n     <use style=\"fill:#bfbf00;stroke:#bfbf00;\" x=\"246.07017\" xlink:href=\"#mffa85d14c8\" y=\"209.361281\"/>\r\n     <use style=\"fill:#bfbf00;stroke:#bfbf00;\" x=\"138.274716\" xlink:href=\"#mffa85d14c8\" y=\"196.307422\"/>\r\n     <use style=\"fill:#bfbf00;stroke:#bfbf00;\" x=\"163.638352\" xlink:href=\"#mffa85d14c8\" y=\"166.470029\"/>\r\n     <use style=\"fill:#bfbf00;stroke:#bfbf00;\" x=\"258.751989\" xlink:href=\"#mffa85d14c8\" y=\"214.955792\"/>\r\n     <use style=\"fill:#bfbf00;stroke:#bfbf00;\" x=\"208.024716\" xlink:href=\"#mffa85d14c8\" y=\"121.71394\"/>\r\n     <use style=\"fill:#bfbf00;stroke:#bfbf00;\" x=\"144.615625\" xlink:href=\"#mffa85d14c8\" y=\"214.955792\"/>\r\n     <use style=\"fill:#bfbf00;stroke:#bfbf00;\" x=\"303.138352\" xlink:href=\"#mffa85d14c8\" y=\"190.712911\"/>\r\n     <use style=\"fill:#bfbf00;stroke:#bfbf00;\" x=\"309.479261\" xlink:href=\"#mffa85d14c8\" y=\"185.118399\"/>\r\n     <use style=\"fill:#bfbf00;stroke:#bfbf00;\" x=\"169.979261\" xlink:href=\"#mffa85d14c8\" y=\"216.820629\"/>\r\n     <use style=\"fill:#bfbf00;stroke:#bfbf00;\" x=\"220.706534\" xlink:href=\"#mffa85d14c8\" y=\"200.037096\"/>\r\n     <use style=\"fill:#bfbf00;stroke:#bfbf00;\" x=\"246.07017\" xlink:href=\"#mffa85d14c8\" y=\"218.685466\"/>\r\n     <use style=\"fill:#bfbf00;stroke:#bfbf00;\" x=\"182.66108\" xlink:href=\"#mffa85d14c8\" y=\"173.929377\"/>\r\n     <use style=\"fill:#bfbf00;stroke:#bfbf00;\" x=\"239.729261\" xlink:href=\"#mffa85d14c8\" y=\"159.010681\"/>\r\n     <use style=\"fill:#bfbf00;stroke:#bfbf00;\" x=\"208.024716\" xlink:href=\"#mffa85d14c8\" y=\"147.821658\"/>\r\n     <use style=\"fill:#bfbf00;stroke:#bfbf00;\" x=\"220.706534\" xlink:href=\"#mffa85d14c8\" y=\"159.010681\"/>\r\n     <use style=\"fill:#bfbf00;stroke:#bfbf00;\" x=\"163.638352\" xlink:href=\"#mffa85d14c8\" y=\"196.307422\"/>\r\n     <use style=\"fill:#bfbf00;stroke:#bfbf00;\" x=\"214.365625\" xlink:href=\"#mffa85d14c8\" y=\"140.36231\"/>\r\n     <use style=\"fill:#bfbf00;stroke:#bfbf00;\" x=\"271.433807\" xlink:href=\"#mffa85d14c8\" y=\"144.091984\"/>\r\n     <use style=\"fill:#bfbf00;stroke:#bfbf00;\" x=\"208.024716\" xlink:href=\"#mffa85d14c8\" y=\"203.76677\"/>\r\n     <use style=\"fill:#bfbf00;stroke:#bfbf00;\" x=\"150.956534\" xlink:href=\"#mffa85d14c8\" y=\"162.740355\"/>\r\n     <use style=\"fill:#bfbf00;stroke:#bfbf00;\" x=\"214.365625\" xlink:href=\"#mffa85d14c8\" y=\"162.740355\"/>\r\n     <use style=\"fill:#bfbf00;stroke:#bfbf00;\" x=\"144.615625\" xlink:href=\"#mffa85d14c8\" y=\"129.173288\"/>\r\n     <use style=\"fill:#bfbf00;stroke:#bfbf00;\" x=\"252.41108\" xlink:href=\"#mffa85d14c8\" y=\"73.228176\"/>\r\n     <use style=\"fill:#bfbf00;stroke:#bfbf00;\" x=\"277.774716\" xlink:href=\"#mffa85d14c8\" y=\"144.091984\"/>\r\n     <use style=\"fill:#bfbf00;stroke:#bfbf00;\" x=\"144.615625\" xlink:href=\"#mffa85d14c8\" y=\"181.388725\"/>\r\n     <use style=\"fill:#bfbf00;stroke:#bfbf00;\" x=\"195.342898\" xlink:href=\"#mffa85d14c8\" y=\"164.605192\"/>\r\n     <use style=\"fill:#bfbf00;stroke:#bfbf00;\" x=\"309.479261\" xlink:href=\"#mffa85d14c8\" y=\"181.388725\"/>\r\n     <use style=\"fill:#bfbf00;stroke:#bfbf00;\" x=\"315.82017\" xlink:href=\"#mffa85d14c8\" y=\"106.795243\"/>\r\n     <use style=\"fill:#bfbf00;stroke:#bfbf00;\" x=\"163.638352\" xlink:href=\"#mffa85d14c8\" y=\"147.821658\"/>\r\n     <use style=\"fill:#bfbf00;stroke:#bfbf00;\" x=\"195.342898\" xlink:href=\"#mffa85d14c8\" y=\"181.388725\"/>\r\n     <use style=\"fill:#bfbf00;stroke:#bfbf00;\" x=\"195.342898\" xlink:href=\"#mffa85d14c8\" y=\"200.037096\"/>\r\n     <use style=\"fill:#bfbf00;stroke:#bfbf00;\" x=\"284.115625\" xlink:href=\"#mffa85d14c8\" y=\"69.498502\"/>\r\n     <use style=\"fill:#bfbf00;stroke:#bfbf00;\" x=\"239.729261\" xlink:href=\"#mffa85d14c8\" y=\"125.443614\"/>\r\n     <use style=\"fill:#bfbf00;stroke:#bfbf00;\" x=\"284.115625\" xlink:href=\"#mffa85d14c8\" y=\"144.091984\"/>\r\n     <use style=\"fill:#bfbf00;stroke:#bfbf00;\" x=\"150.956534\" xlink:href=\"#mffa85d14c8\" y=\"200.037096\"/>\r\n     <use style=\"fill:#bfbf00;stroke:#bfbf00;\" x=\"227.047443\" xlink:href=\"#mffa85d14c8\" y=\"162.740355\"/>\r\n     <use style=\"fill:#bfbf00;stroke:#bfbf00;\" x=\"112.91108\" xlink:href=\"#mffa85d14c8\" y=\"181.388725\"/>\r\n     <use style=\"fill:#bfbf00;stroke:#bfbf00;\" x=\"138.274716\" xlink:href=\"#mffa85d14c8\" y=\"162.740355\"/>\r\n     <use style=\"fill:#bfbf00;stroke:#bfbf00;\" x=\"233.388352\" xlink:href=\"#mffa85d14c8\" y=\"181.388725\"/>\r\n     <use style=\"fill:#bfbf00;stroke:#bfbf00;\" x=\"169.979261\" xlink:href=\"#mffa85d14c8\" y=\"209.361281\"/>\r\n     <use style=\"fill:#bfbf00;stroke:#bfbf00;\" x=\"169.979261\" xlink:href=\"#mffa85d14c8\" y=\"147.821658\"/>\r\n     <use style=\"fill:#bfbf00;stroke:#bfbf00;\" x=\"284.115625\" xlink:href=\"#mffa85d14c8\" y=\"162.740355\"/>\r\n     <use style=\"fill:#bfbf00;stroke:#bfbf00;\" x=\"252.41108\" xlink:href=\"#mffa85d14c8\" y=\"147.821658\"/>\r\n     <use style=\"fill:#bfbf00;stroke:#bfbf00;\" x=\"138.274716\" xlink:href=\"#mffa85d14c8\" y=\"196.307422\"/>\r\n     <use style=\"fill:#bfbf00;stroke:#bfbf00;\" x=\"220.706534\" xlink:href=\"#mffa85d14c8\" y=\"203.76677\"/>\r\n     <use style=\"fill:#bfbf00;stroke:#bfbf00;\" x=\"125.592898\" xlink:href=\"#mffa85d14c8\" y=\"229.874489\"/>\r\n     <use style=\"fill:#bfbf00;stroke:#bfbf00;\" x=\"93.888352\" xlink:href=\"#mffa85d14c8\" y=\"185.118399\"/>\r\n     <use style=\"fill:#bfbf00;stroke:#bfbf00;\" x=\"176.32017\" xlink:href=\"#mffa85d14c8\" y=\"196.307422\"/>\r\n     <use style=\"fill:#bfbf00;stroke:#bfbf00;\" x=\"303.138352\" xlink:href=\"#mffa85d14c8\" y=\"121.71394\"/>\r\n     <use style=\"fill:#bfbf00;stroke:#bfbf00;\" x=\"208.024716\" xlink:href=\"#mffa85d14c8\" y=\"151.551333\"/>\r\n     <use style=\"fill:#bfbf00;stroke:#bfbf00;\" x=\"347.524716\" xlink:href=\"#mffa85d14c8\" y=\"181.388725\"/>\r\n     <use style=\"fill:#bfbf00;stroke:#bfbf00;\" x=\"220.706534\" xlink:href=\"#mffa85d14c8\" y=\"106.795243\"/>\r\n     <use style=\"fill:#bfbf00;stroke:#bfbf00;\" x=\"189.001989\" xlink:href=\"#mffa85d14c8\" y=\"155.281007\"/>\r\n     <use style=\"fill:#bfbf00;stroke:#bfbf00;\" x=\"144.615625\" xlink:href=\"#mffa85d14c8\" y=\"181.388725\"/>\r\n     <use style=\"fill:#bfbf00;stroke:#bfbf00;\" x=\"138.274716\" xlink:href=\"#mffa85d14c8\" y=\"200.037096\"/>\r\n     <use style=\"fill:#bfbf00;stroke:#bfbf00;\" x=\"138.274716\" xlink:href=\"#mffa85d14c8\" y=\"170.199703\"/>\r\n     <use style=\"fill:#bfbf00;stroke:#bfbf00;\" x=\"189.001989\" xlink:href=\"#mffa85d14c8\" y=\"162.740355\"/>\r\n     <use style=\"fill:#bfbf00;stroke:#bfbf00;\" x=\"258.751989\" xlink:href=\"#mffa85d14c8\" y=\"181.388725\"/>\r\n     <use style=\"fill:#bfbf00;stroke:#bfbf00;\" x=\"271.433807\" xlink:href=\"#mffa85d14c8\" y=\"166.470029\"/>\r\n     <use style=\"fill:#bfbf00;stroke:#bfbf00;\" x=\"239.729261\" xlink:href=\"#mffa85d14c8\" y=\"200.037096\"/>\r\n     <use style=\"fill:#bfbf00;stroke:#bfbf00;\" x=\"284.115625\" xlink:href=\"#mffa85d14c8\" y=\"166.470029\"/>\r\n     <use style=\"fill:#bfbf00;stroke:#bfbf00;\" x=\"201.683807\" xlink:href=\"#mffa85d14c8\" y=\"181.388725\"/>\r\n     <use style=\"fill:#bfbf00;stroke:#bfbf00;\" x=\"150.956534\" xlink:href=\"#mffa85d14c8\" y=\"190.712911\"/>\r\n     <use style=\"fill:#bfbf00;stroke:#bfbf00;\" x=\"144.615625\" xlink:href=\"#mffa85d14c8\" y=\"181.388725\"/>\r\n     <use style=\"fill:#bfbf00;stroke:#bfbf00;\" x=\"303.138352\" xlink:href=\"#mffa85d14c8\" y=\"207.496444\"/>\r\n     <use style=\"fill:#bfbf00;stroke:#bfbf00;\" x=\"360.206534\" xlink:href=\"#mffa85d14c8\" y=\"144.091984\"/>\r\n     <use style=\"fill:#bfbf00;stroke:#bfbf00;\" x=\"322.16108\" xlink:href=\"#mffa85d14c8\" y=\"114.254592\"/>\r\n     <use style=\"fill:#bfbf00;stroke:#bfbf00;\" x=\"157.297443\" xlink:href=\"#mffa85d14c8\" y=\"185.118399\"/>\r\n     <use style=\"fill:#bfbf00;stroke:#bfbf00;\" x=\"258.751989\" xlink:href=\"#mffa85d14c8\" y=\"125.443614\"/>\r\n     <use style=\"fill:#bfbf00;stroke:#bfbf00;\" x=\"157.297443\" xlink:href=\"#mffa85d14c8\" y=\"181.388725\"/>\r\n     <use style=\"fill:#bfbf00;stroke:#bfbf00;\" x=\"144.615625\" xlink:href=\"#mffa85d14c8\" y=\"162.740355\"/>\r\n     <use style=\"fill:#bfbf00;stroke:#bfbf00;\" x=\"296.797443\" xlink:href=\"#mffa85d14c8\" y=\"106.795243\"/>\r\n     <use style=\"fill:#bfbf00;stroke:#bfbf00;\" x=\"328.501989\" xlink:href=\"#mffa85d14c8\" y=\"196.307422\"/>\r\n     <use style=\"fill:#bfbf00;stroke:#bfbf00;\" x=\"284.115625\" xlink:href=\"#mffa85d14c8\" y=\"88.146873\"/>\r\n     <use style=\"fill:#bfbf00;stroke:#bfbf00;\" x=\"296.797443\" xlink:href=\"#mffa85d14c8\" y=\"132.902962\"/>\r\n     <use style=\"fill:#bfbf00;stroke:#bfbf00;\" x=\"125.592898\" xlink:href=\"#mffa85d14c8\" y=\"147.821658\"/>\r\n     <use style=\"fill:#bfbf00;stroke:#bfbf00;\" x=\"246.07017\" xlink:href=\"#mffa85d14c8\" y=\"162.740355\"/>\r\n     <use style=\"fill:#bfbf00;stroke:#bfbf00;\" x=\"176.32017\" xlink:href=\"#mffa85d14c8\" y=\"162.740355\"/>\r\n     <use style=\"fill:#bfbf00;stroke:#bfbf00;\" x=\"100.229261\" xlink:href=\"#mffa85d14c8\" y=\"177.659051\"/>\r\n     <use style=\"fill:#bfbf00;stroke:#bfbf00;\" x=\"246.07017\" xlink:href=\"#mffa85d14c8\" y=\"172.06454\"/>\r\n     <use style=\"fill:#bfbf00;stroke:#bfbf00;\" x=\"233.388352\" xlink:href=\"#mffa85d14c8\" y=\"162.740355\"/>\r\n     <use style=\"fill:#bfbf00;stroke:#bfbf00;\" x=\"233.388352\" xlink:href=\"#mffa85d14c8\" y=\"181.388725\"/>\r\n     <use style=\"fill:#bfbf00;stroke:#bfbf00;\" x=\"227.047443\" xlink:href=\"#mffa85d14c8\" y=\"159.010681\"/>\r\n     <use style=\"fill:#bfbf00;stroke:#bfbf00;\" x=\"138.274716\" xlink:href=\"#mffa85d14c8\" y=\"181.388725\"/>\r\n     <use style=\"fill:#bfbf00;stroke:#bfbf00;\" x=\"119.251989\" xlink:href=\"#mffa85d14c8\" y=\"147.821658\"/>\r\n     <use style=\"fill:#bfbf00;stroke:#bfbf00;\" x=\"119.251989\" xlink:href=\"#mffa85d14c8\" y=\"147.821658\"/>\r\n    </g>\r\n   </g>\r\n   <g id=\"PathCollection_2\">\r\n    <defs>\r\n     <path d=\"M 0 3 \r\nC 0.795609 3 1.55874 2.683901 2.12132 2.12132 \r\nC 2.683901 1.55874 3 0.795609 3 0 \r\nC 3 -0.795609 2.683901 -1.55874 2.12132 -2.12132 \r\nC 1.55874 -2.683901 0.795609 -3 0 -3 \r\nC -0.795609 -3 -1.55874 -2.683901 -2.12132 -2.12132 \r\nC -2.683901 -1.55874 -3 -0.795609 -3 0 \r\nC -3 0.795609 -2.683901 1.55874 -2.12132 2.12132 \r\nC -1.55874 2.683901 -0.795609 3 0 3 \r\nz\r\n\" id=\"m7b91127b4f\" style=\"stroke:#0000ff;\"/>\r\n    </defs>\r\n    <g clip-path=\"url(#p10e1e10f77)\">\r\n     <use style=\"fill:#0000ff;stroke:#0000ff;\" x=\"303.138352\" xlink:href=\"#m7b91127b4f\" y=\"106.795243\"/>\r\n     <use style=\"fill:#0000ff;stroke:#0000ff;\" x=\"303.138352\" xlink:href=\"#m7b91127b4f\" y=\"181.388725\"/>\r\n     <use style=\"fill:#0000ff;stroke:#0000ff;\" x=\"271.433807\" xlink:href=\"#m7b91127b4f\" y=\"144.091984\"/>\r\n     <use style=\"fill:#0000ff;stroke:#0000ff;\" x=\"277.774716\" xlink:href=\"#m7b91127b4f\" y=\"162.740355\"/>\r\n     <use style=\"fill:#0000ff;stroke:#0000ff;\" x=\"214.365625\" xlink:href=\"#m7b91127b4f\" y=\"144.091984\"/>\r\n     <use style=\"fill:#0000ff;stroke:#0000ff;\" x=\"233.388352\" xlink:href=\"#m7b91127b4f\" y=\"162.740355\"/>\r\n     <use style=\"fill:#0000ff;stroke:#0000ff;\" x=\"182.66108\" xlink:href=\"#m7b91127b4f\" y=\"200.037096\"/>\r\n     <use style=\"fill:#0000ff;stroke:#0000ff;\" x=\"246.07017\" xlink:href=\"#m7b91127b4f\" y=\"181.388725\"/>\r\n     <use style=\"fill:#0000ff;stroke:#0000ff;\" x=\"246.07017\" xlink:href=\"#m7b91127b4f\" y=\"159.010681\"/>\r\n     <use style=\"fill:#0000ff;stroke:#0000ff;\" x=\"258.751989\" xlink:href=\"#m7b91127b4f\" y=\"162.740355\"/>\r\n     <use style=\"fill:#0000ff;stroke:#0000ff;\" x=\"131.933807\" xlink:href=\"#m7b91127b4f\" y=\"200.037096\"/>\r\n     <use style=\"fill:#0000ff;stroke:#0000ff;\" x=\"258.751989\" xlink:href=\"#m7b91127b4f\" y=\"186.983236\"/>\r\n     <use style=\"fill:#0000ff;stroke:#0000ff;\" x=\"284.115625\" xlink:href=\"#m7b91127b4f\" y=\"144.091984\"/>\r\n     <use style=\"fill:#0000ff;stroke:#0000ff;\" x=\"150.956534\" xlink:href=\"#m7b91127b4f\" y=\"181.388725\"/>\r\n     <use style=\"fill:#0000ff;stroke:#0000ff;\" x=\"239.729261\" xlink:href=\"#m7b91127b4f\" y=\"125.443614\"/>\r\n     <use style=\"fill:#0000ff;stroke:#0000ff;\" x=\"227.047443\" xlink:href=\"#m7b91127b4f\" y=\"159.010681\"/>\r\n     <use style=\"fill:#0000ff;stroke:#0000ff;\" x=\"290.456534\" xlink:href=\"#m7b91127b4f\" y=\"125.443614\"/>\r\n     <use style=\"fill:#0000ff;stroke:#0000ff;\" x=\"265.092898\" xlink:href=\"#m7b91127b4f\" y=\"162.740355\"/>\r\n     <use style=\"fill:#0000ff;stroke:#0000ff;\" x=\"246.07017\" xlink:href=\"#m7b91127b4f\" y=\"196.307422\"/>\r\n     <use style=\"fill:#0000ff;stroke:#0000ff;\" x=\"195.342898\" xlink:href=\"#m7b91127b4f\" y=\"125.443614\"/>\r\n     <use style=\"fill:#0000ff;stroke:#0000ff;\" x=\"157.297443\" xlink:href=\"#m7b91127b4f\" y=\"196.307422\"/>\r\n     <use style=\"fill:#0000ff;stroke:#0000ff;\" x=\"258.751989\" xlink:href=\"#m7b91127b4f\" y=\"162.740355\"/>\r\n     <use style=\"fill:#0000ff;stroke:#0000ff;\" x=\"220.706534\" xlink:href=\"#m7b91127b4f\" y=\"173.929377\"/>\r\n     <use style=\"fill:#0000ff;stroke:#0000ff;\" x=\"195.342898\" xlink:href=\"#m7b91127b4f\" y=\"144.091984\"/>\r\n     <use style=\"fill:#0000ff;stroke:#0000ff;\" x=\"138.274716\" xlink:href=\"#m7b91127b4f\" y=\"200.037096\"/>\r\n     <use style=\"fill:#0000ff;stroke:#0000ff;\" x=\"201.683807\" xlink:href=\"#m7b91127b4f\" y=\"162.740355\"/>\r\n     <use style=\"fill:#0000ff;stroke:#0000ff;\" x=\"246.07017\" xlink:href=\"#m7b91127b4f\" y=\"166.470029\"/>\r\n     <use style=\"fill:#0000ff;stroke:#0000ff;\" x=\"220.706534\" xlink:href=\"#m7b91127b4f\" y=\"181.388725\"/>\r\n     <use style=\"fill:#0000ff;stroke:#0000ff;\" x=\"258.751989\" xlink:href=\"#m7b91127b4f\" y=\"134.767799\"/>\r\n     <use style=\"fill:#0000ff;stroke:#0000ff;\" x=\"258.751989\" xlink:href=\"#m7b91127b4f\" y=\"144.091984\"/>\r\n     <use style=\"fill:#0000ff;stroke:#0000ff;\" x=\"252.41108\" xlink:href=\"#m7b91127b4f\" y=\"88.146873\"/>\r\n     <use style=\"fill:#0000ff;stroke:#0000ff;\" x=\"169.979261\" xlink:href=\"#m7b91127b4f\" y=\"125.443614\"/>\r\n     <use style=\"fill:#0000ff;stroke:#0000ff;\" x=\"303.138352\" xlink:href=\"#m7b91127b4f\" y=\"172.06454\"/>\r\n     <use style=\"fill:#0000ff;stroke:#0000ff;\" x=\"271.433807\" xlink:href=\"#m7b91127b4f\" y=\"181.388725\"/>\r\n     <use style=\"fill:#0000ff;stroke:#0000ff;\" x=\"290.456534\" xlink:href=\"#m7b91127b4f\" y=\"200.037096\"/>\r\n     <use style=\"fill:#0000ff;stroke:#0000ff;\" x=\"157.297443\" xlink:href=\"#m7b91127b4f\" y=\"200.037096\"/>\r\n     <use style=\"fill:#0000ff;stroke:#0000ff;\" x=\"258.751989\" xlink:href=\"#m7b91127b4f\" y=\"172.06454\"/>\r\n     <use style=\"fill:#0000ff;stroke:#0000ff;\" x=\"246.07017\" xlink:href=\"#m7b91127b4f\" y=\"125.443614\"/>\r\n     <use style=\"fill:#0000ff;stroke:#0000ff;\" x=\"309.479261\" xlink:href=\"#m7b91127b4f\" y=\"69.498502\"/>\r\n     <use style=\"fill:#0000ff;stroke:#0000ff;\" x=\"271.433807\" xlink:href=\"#m7b91127b4f\" y=\"106.795243\"/>\r\n     <use style=\"fill:#0000ff;stroke:#0000ff;\" x=\"208.024716\" xlink:href=\"#m7b91127b4f\" y=\"166.470029\"/>\r\n     <use style=\"fill:#0000ff;stroke:#0000ff;\" x=\"252.41108\" xlink:href=\"#m7b91127b4f\" y=\"200.037096\"/>\r\n     <use style=\"fill:#0000ff;stroke:#0000ff;\" x=\"258.751989\" xlink:href=\"#m7b91127b4f\" y=\"125.443614\"/>\r\n     <use style=\"fill:#0000ff;stroke:#0000ff;\" x=\"189.001989\" xlink:href=\"#m7b91127b4f\" y=\"181.388725\"/>\r\n     <use style=\"fill:#0000ff;stroke:#0000ff;\" x=\"252.41108\" xlink:href=\"#m7b91127b4f\" y=\"144.091984\"/>\r\n     <use style=\"fill:#0000ff;stroke:#0000ff;\" x=\"239.729261\" xlink:href=\"#m7b91127b4f\" y=\"166.470029\"/>\r\n     <use style=\"fill:#0000ff;stroke:#0000ff;\" x=\"265.092898\" xlink:href=\"#m7b91127b4f\" y=\"181.388725\"/>\r\n     <use style=\"fill:#0000ff;stroke:#0000ff;\" x=\"125.592898\" xlink:href=\"#m7b91127b4f\" y=\"185.118399\"/>\r\n     <use style=\"fill:#0000ff;stroke:#0000ff;\" x=\"265.092898\" xlink:href=\"#m7b91127b4f\" y=\"134.767799\"/>\r\n     <use style=\"fill:#0000ff;stroke:#0000ff;\" x=\"233.388352\" xlink:href=\"#m7b91127b4f\" y=\"172.06454\"/>\r\n     <use style=\"fill:#0000ff;stroke:#0000ff;\" x=\"150.956534\" xlink:href=\"#m7b91127b4f\" y=\"159.010681\"/>\r\n     <use style=\"fill:#0000ff;stroke:#0000ff;\" x=\"271.433807\" xlink:href=\"#m7b91127b4f\" y=\"162.740355\"/>\r\n     <use style=\"fill:#0000ff;stroke:#0000ff;\" x=\"277.774716\" xlink:href=\"#m7b91127b4f\" y=\"162.740355\"/>\r\n     <use style=\"fill:#0000ff;stroke:#0000ff;\" x=\"290.456534\" xlink:href=\"#m7b91127b4f\" y=\"153.41617\"/>\r\n     <use style=\"fill:#0000ff;stroke:#0000ff;\" x=\"182.66108\" xlink:href=\"#m7b91127b4f\" y=\"162.740355\"/>\r\n     <use style=\"fill:#0000ff;stroke:#0000ff;\" x=\"277.774716\" xlink:href=\"#m7b91127b4f\" y=\"125.443614\"/>\r\n     <use style=\"fill:#0000ff;stroke:#0000ff;\" x=\"227.047443\" xlink:href=\"#m7b91127b4f\" y=\"144.091984\"/>\r\n     <use style=\"fill:#0000ff;stroke:#0000ff;\" x=\"290.456534\" xlink:href=\"#m7b91127b4f\" y=\"147.821658\"/>\r\n     <use style=\"fill:#0000ff;stroke:#0000ff;\" x=\"233.388352\" xlink:href=\"#m7b91127b4f\" y=\"32.201761\"/>\r\n     <use style=\"fill:#0000ff;stroke:#0000ff;\" x=\"220.706534\" xlink:href=\"#m7b91127b4f\" y=\"200.037096\"/>\r\n     <use style=\"fill:#0000ff;stroke:#0000ff;\" x=\"322.16108\" xlink:href=\"#m7b91127b4f\" y=\"134.767799\"/>\r\n     <use style=\"fill:#0000ff;stroke:#0000ff;\" x=\"271.433807\" xlink:href=\"#m7b91127b4f\" y=\"181.388725\"/>\r\n     <use style=\"fill:#0000ff;stroke:#0000ff;\" x=\"100.229261\" xlink:href=\"#m7b91127b4f\" y=\"181.388725\"/>\r\n     <use style=\"fill:#0000ff;stroke:#0000ff;\" x=\"252.41108\" xlink:href=\"#m7b91127b4f\" y=\"88.146873\"/>\r\n     <use style=\"fill:#0000ff;stroke:#0000ff;\" x=\"284.115625\" xlink:href=\"#m7b91127b4f\" y=\"172.06454\"/>\r\n     <use style=\"fill:#0000ff;stroke:#0000ff;\" x=\"176.32017\" xlink:href=\"#m7b91127b4f\" y=\"203.76677\"/>\r\n     <use style=\"fill:#0000ff;stroke:#0000ff;\" x=\"239.729261\" xlink:href=\"#m7b91127b4f\" y=\"97.471058\"/>\r\n     <use style=\"fill:#0000ff;stroke:#0000ff;\" x=\"227.047443\" xlink:href=\"#m7b91127b4f\" y=\"106.795243\"/>\r\n     <use style=\"fill:#0000ff;stroke:#0000ff;\" x=\"284.115625\" xlink:href=\"#m7b91127b4f\" y=\"181.388725\"/>\r\n     <use style=\"fill:#0000ff;stroke:#0000ff;\" x=\"322.16108\" xlink:href=\"#m7b91127b4f\" y=\"162.740355\"/>\r\n     <use style=\"fill:#0000ff;stroke:#0000ff;\" x=\"201.683807\" xlink:href=\"#m7b91127b4f\" y=\"144.091984\"/>\r\n     <use style=\"fill:#0000ff;stroke:#0000ff;\" x=\"246.07017\" xlink:href=\"#m7b91127b4f\" y=\"172.06454\"/>\r\n     <use style=\"fill:#0000ff;stroke:#0000ff;\" x=\"258.751989\" xlink:href=\"#m7b91127b4f\" y=\"144.091984\"/>\r\n     <use style=\"fill:#0000ff;stroke:#0000ff;\" x=\"366.547443\" xlink:href=\"#m7b91127b4f\" y=\"172.06454\"/>\r\n     <use style=\"fill:#0000ff;stroke:#0000ff;\" x=\"100.229261\" xlink:href=\"#m7b91127b4f\" y=\"170.199703\"/>\r\n     <use style=\"fill:#0000ff;stroke:#0000ff;\" x=\"322.16108\" xlink:href=\"#m7b91127b4f\" y=\"106.795243\"/>\r\n     <use style=\"fill:#0000ff;stroke:#0000ff;\" x=\"252.41108\" xlink:href=\"#m7b91127b4f\" y=\"80.687525\"/>\r\n     <use style=\"fill:#0000ff;stroke:#0000ff;\" x=\"284.115625\" xlink:href=\"#m7b91127b4f\" y=\"134.767799\"/>\r\n     <use style=\"fill:#0000ff;stroke:#0000ff;\" x=\"239.729261\" xlink:href=\"#m7b91127b4f\" y=\"121.71394\"/>\r\n     <use style=\"fill:#0000ff;stroke:#0000ff;\" x=\"233.388352\" xlink:href=\"#m7b91127b4f\" y=\"159.010681\"/>\r\n     <use style=\"fill:#0000ff;stroke:#0000ff;\" x=\"182.66108\" xlink:href=\"#m7b91127b4f\" y=\"173.929377\"/>\r\n     <use style=\"fill:#0000ff;stroke:#0000ff;\" x=\"233.388352\" xlink:href=\"#m7b91127b4f\" y=\"155.281007\"/>\r\n     <use style=\"fill:#0000ff;stroke:#0000ff;\" x=\"296.797443\" xlink:href=\"#m7b91127b4f\" y=\"106.795243\"/>\r\n     <use style=\"fill:#0000ff;stroke:#0000ff;\" x=\"220.706534\" xlink:href=\"#m7b91127b4f\" y=\"47.120458\"/>\r\n     <use style=\"fill:#0000ff;stroke:#0000ff;\" x=\"315.82017\" xlink:href=\"#m7b91127b4f\" y=\"144.091984\"/>\r\n     <use style=\"fill:#0000ff;stroke:#0000ff;\" x=\"201.683807\" xlink:href=\"#m7b91127b4f\" y=\"144.091984\"/>\r\n     <use style=\"fill:#0000ff;stroke:#0000ff;\" x=\"150.956534\" xlink:href=\"#m7b91127b4f\" y=\"159.010681\"/>\r\n     <use style=\"fill:#0000ff;stroke:#0000ff;\" x=\"271.433807\" xlink:href=\"#m7b91127b4f\" y=\"147.821658\"/>\r\n     <use style=\"fill:#0000ff;stroke:#0000ff;\" x=\"303.138352\" xlink:href=\"#m7b91127b4f\" y=\"218.685466\"/>\r\n     <use style=\"fill:#0000ff;stroke:#0000ff;\" x=\"252.41108\" xlink:href=\"#m7b91127b4f\" y=\"106.795243\"/>\r\n     <use style=\"fill:#0000ff;stroke:#0000ff;\" x=\"163.638352\" xlink:href=\"#m7b91127b4f\" y=\"140.36231\"/>\r\n     <use style=\"fill:#0000ff;stroke:#0000ff;\" x=\"246.07017\" xlink:href=\"#m7b91127b4f\" y=\"166.470029\"/>\r\n     <use style=\"fill:#0000ff;stroke:#0000ff;\" x=\"195.342898\" xlink:href=\"#m7b91127b4f\" y=\"136.632636\"/>\r\n     <use style=\"fill:#0000ff;stroke:#0000ff;\" x=\"271.433807\" xlink:href=\"#m7b91127b4f\" y=\"125.443614\"/>\r\n     <use style=\"fill:#0000ff;stroke:#0000ff;\" x=\"119.251989\" xlink:href=\"#m7b91127b4f\" y=\"181.388725\"/>\r\n     <use style=\"fill:#0000ff;stroke:#0000ff;\" x=\"296.797443\" xlink:href=\"#m7b91127b4f\" y=\"73.228176\"/>\r\n     <use style=\"fill:#0000ff;stroke:#0000ff;\" x=\"208.024716\" xlink:href=\"#m7b91127b4f\" y=\"196.307422\"/>\r\n     <use style=\"fill:#0000ff;stroke:#0000ff;\" x=\"214.365625\" xlink:href=\"#m7b91127b4f\" y=\"175.794214\"/>\r\n     <use style=\"fill:#0000ff;stroke:#0000ff;\" x=\"277.774716\" xlink:href=\"#m7b91127b4f\" y=\"203.76677\"/>\r\n     <use style=\"fill:#0000ff;stroke:#0000ff;\" x=\"220.706534\" xlink:href=\"#m7b91127b4f\" y=\"200.037096\"/>\r\n     <use style=\"fill:#0000ff;stroke:#0000ff;\" x=\"296.797443\" xlink:href=\"#m7b91127b4f\" y=\"196.307422\"/>\r\n     <use style=\"fill:#0000ff;stroke:#0000ff;\" x=\"227.047443\" xlink:href=\"#m7b91127b4f\" y=\"69.498502\"/>\r\n     <use style=\"fill:#0000ff;stroke:#0000ff;\" x=\"189.001989\" xlink:href=\"#m7b91127b4f\" y=\"185.118399\"/>\r\n     <use style=\"fill:#0000ff;stroke:#0000ff;\" x=\"220.706534\" xlink:href=\"#m7b91127b4f\" y=\"177.659051\"/>\r\n     <use style=\"fill:#0000ff;stroke:#0000ff;\" x=\"233.388352\" xlink:href=\"#m7b91127b4f\" y=\"162.740355\"/>\r\n     <use style=\"fill:#0000ff;stroke:#0000ff;\" x=\"169.979261\" xlink:href=\"#m7b91127b4f\" y=\"181.388725\"/>\r\n     <use style=\"fill:#0000ff;stroke:#0000ff;\" x=\"265.092898\" xlink:href=\"#m7b91127b4f\" y=\"155.281007\"/>\r\n     <use style=\"fill:#0000ff;stroke:#0000ff;\" x=\"303.138352\" xlink:href=\"#m7b91127b4f\" y=\"181.388725\"/>\r\n     <use style=\"fill:#0000ff;stroke:#0000ff;\" x=\"246.07017\" xlink:href=\"#m7b91127b4f\" y=\"218.685466\"/>\r\n     <use style=\"fill:#0000ff;stroke:#0000ff;\" x=\"176.32017\" xlink:href=\"#m7b91127b4f\" y=\"200.037096\"/>\r\n     <use style=\"fill:#0000ff;stroke:#0000ff;\" x=\"208.024716\" xlink:href=\"#m7b91127b4f\" y=\"172.06454\"/>\r\n     <use style=\"fill:#0000ff;stroke:#0000ff;\" x=\"246.07017\" xlink:href=\"#m7b91127b4f\" y=\"132.902962\"/>\r\n     <use style=\"fill:#0000ff;stroke:#0000ff;\" x=\"239.729261\" xlink:href=\"#m7b91127b4f\" y=\"173.929377\"/>\r\n     <use style=\"fill:#0000ff;stroke:#0000ff;\" x=\"246.07017\" xlink:href=\"#m7b91127b4f\" y=\"151.551333\"/>\r\n     <use style=\"fill:#0000ff;stroke:#0000ff;\" x=\"265.092898\" xlink:href=\"#m7b91127b4f\" y=\"147.821658\"/>\r\n     <use style=\"fill:#0000ff;stroke:#0000ff;\" x=\"144.615625\" xlink:href=\"#m7b91127b4f\" y=\"151.551333\"/>\r\n     <use style=\"fill:#0000ff;stroke:#0000ff;\" x=\"208.024716\" xlink:href=\"#m7b91127b4f\" y=\"166.470029\"/>\r\n     <use style=\"fill:#0000ff;stroke:#0000ff;\" x=\"252.41108\" xlink:href=\"#m7b91127b4f\" y=\"170.199703\"/>\r\n     <use style=\"fill:#0000ff;stroke:#0000ff;\" x=\"131.933807\" xlink:href=\"#m7b91127b4f\" y=\"121.71394\"/>\r\n     <use style=\"fill:#0000ff;stroke:#0000ff;\" x=\"265.092898\" xlink:href=\"#m7b91127b4f\" y=\"144.091984\"/>\r\n     <use style=\"fill:#0000ff;stroke:#0000ff;\" x=\"169.979261\" xlink:href=\"#m7b91127b4f\" y=\"144.091984\"/>\r\n     <use style=\"fill:#0000ff;stroke:#0000ff;\" x=\"252.41108\" xlink:href=\"#m7b91127b4f\" y=\"155.281007\"/>\r\n     <use style=\"fill:#0000ff;stroke:#0000ff;\" x=\"239.729261\" xlink:href=\"#m7b91127b4f\" y=\"117.984266\"/>\r\n     <use style=\"fill:#0000ff;stroke:#0000ff;\" x=\"239.729261\" xlink:href=\"#m7b91127b4f\" y=\"200.037096\"/>\r\n     <use style=\"fill:#0000ff;stroke:#0000ff;\" x=\"227.047443\" xlink:href=\"#m7b91127b4f\" y=\"166.470029\"/>\r\n     <use style=\"fill:#0000ff;stroke:#0000ff;\" x=\"265.092898\" xlink:href=\"#m7b91127b4f\" y=\"129.173288\"/>\r\n     <use style=\"fill:#0000ff;stroke:#0000ff;\" x=\"246.07017\" xlink:href=\"#m7b91127b4f\" y=\"192.577748\"/>\r\n     <use style=\"fill:#0000ff;stroke:#0000ff;\" x=\"246.07017\" xlink:href=\"#m7b91127b4f\" y=\"88.146873\"/>\r\n     <use style=\"fill:#0000ff;stroke:#0000ff;\" x=\"303.138352\" xlink:href=\"#m7b91127b4f\" y=\"121.71394\"/>\r\n     <use style=\"fill:#0000ff;stroke:#0000ff;\" x=\"157.297443\" xlink:href=\"#m7b91127b4f\" y=\"181.388725\"/>\r\n     <use style=\"fill:#0000ff;stroke:#0000ff;\" x=\"277.774716\" xlink:href=\"#m7b91127b4f\" y=\"144.091984\"/>\r\n     <use style=\"fill:#0000ff;stroke:#0000ff;\" x=\"277.774716\" xlink:href=\"#m7b91127b4f\" y=\"173.929377\"/>\r\n     <use style=\"fill:#0000ff;stroke:#0000ff;\" x=\"252.41108\" xlink:href=\"#m7b91127b4f\" y=\"99.335895\"/>\r\n     <use style=\"fill:#0000ff;stroke:#0000ff;\" x=\"239.729261\" xlink:href=\"#m7b91127b4f\" y=\"144.091984\"/>\r\n     <use style=\"fill:#0000ff;stroke:#0000ff;\" x=\"163.638352\" xlink:href=\"#m7b91127b4f\" y=\"200.037096\"/>\r\n     <use style=\"fill:#0000ff;stroke:#0000ff;\" x=\"309.479261\" xlink:href=\"#m7b91127b4f\" y=\"136.632636\"/>\r\n     <use style=\"fill:#0000ff;stroke:#0000ff;\" x=\"239.729261\" xlink:href=\"#m7b91127b4f\" y=\"162.740355\"/>\r\n     <use style=\"fill:#0000ff;stroke:#0000ff;\" x=\"239.729261\" xlink:href=\"#m7b91127b4f\" y=\"162.740355\"/>\r\n    </g>\r\n   </g>\r\n   <g id=\"PathCollection_3\">\r\n    <defs>\r\n     <path d=\"M 0 5 \r\nC 1.326016 5 2.597899 4.473168 3.535534 3.535534 \r\nC 4.473168 2.597899 5 1.326016 5 0 \r\nC 5 -1.326016 4.473168 -2.597899 3.535534 -3.535534 \r\nC 2.597899 -4.473168 1.326016 -5 0 -5 \r\nC -1.326016 -5 -2.597899 -4.473168 -3.535534 -3.535534 \r\nC -4.473168 -2.597899 -5 -1.326016 -5 0 \r\nC -5 1.326016 -4.473168 2.597899 -3.535534 3.535534 \r\nC -2.597899 4.473168 -1.326016 5 0 5 \r\nz\r\n\" id=\"m57ca5a3e09\" style=\"stroke:#ff0000;\"/>\r\n    </defs>\r\n    <g clip-path=\"url(#p10e1e10f77)\">\r\n     <use style=\"fill:#ff0000;stroke:#ff0000;\" x=\"195.342898\" xlink:href=\"#m57ca5a3e09\" y=\"144.091984\"/>\r\n    </g>\r\n   </g>\r\n   <g id=\"matplotlib.axis_1\">\r\n    <g id=\"xtick_1\">\r\n     <g id=\"line2d_1\">\r\n      <defs>\r\n       <path d=\"M 0 0 \r\nL 0 3.5 \r\n\" id=\"m3815094b18\" style=\"stroke:#000000;stroke-width:0.8;\"/>\r\n      </defs>\r\n      <g>\r\n       <use style=\"stroke:#000000;stroke-width:0.8;\" x=\"68.524716\" xlink:href=\"#m3815094b18\" y=\"239.758125\"/>\r\n      </g>\r\n     </g>\r\n     <g id=\"text_1\">\r\n      <!-- 30 -->\r\n      <g transform=\"translate(62.162216 254.356562)scale(0.1 -0.1)\">\r\n       <defs>\r\n        <path d=\"M 40.578125 39.3125 \r\nQ 47.65625 37.796875 51.625 33 \r\nQ 55.609375 28.21875 55.609375 21.1875 \r\nQ 55.609375 10.40625 48.1875 4.484375 \r\nQ 40.765625 -1.421875 27.09375 -1.421875 \r\nQ 22.515625 -1.421875 17.65625 -0.515625 \r\nQ 12.796875 0.390625 7.625 2.203125 \r\nL 7.625 11.71875 \r\nQ 11.71875 9.328125 16.59375 8.109375 \r\nQ 21.484375 6.890625 26.8125 6.890625 \r\nQ 36.078125 6.890625 40.9375 10.546875 \r\nQ 45.796875 14.203125 45.796875 21.1875 \r\nQ 45.796875 27.640625 41.28125 31.265625 \r\nQ 36.765625 34.90625 28.71875 34.90625 \r\nL 20.21875 34.90625 \r\nL 20.21875 43.015625 \r\nL 29.109375 43.015625 \r\nQ 36.375 43.015625 40.234375 45.921875 \r\nQ 44.09375 48.828125 44.09375 54.296875 \r\nQ 44.09375 59.90625 40.109375 62.90625 \r\nQ 36.140625 65.921875 28.71875 65.921875 \r\nQ 24.65625 65.921875 20.015625 65.03125 \r\nQ 15.375 64.15625 9.8125 62.3125 \r\nL 9.8125 71.09375 \r\nQ 15.4375 72.65625 20.34375 73.4375 \r\nQ 25.25 74.21875 29.59375 74.21875 \r\nQ 40.828125 74.21875 47.359375 69.109375 \r\nQ 53.90625 64.015625 53.90625 55.328125 \r\nQ 53.90625 49.265625 50.4375 45.09375 \r\nQ 46.96875 40.921875 40.578125 39.3125 \r\nz\r\n\" id=\"DejaVuSans-51\"/>\r\n        <path d=\"M 31.78125 66.40625 \r\nQ 24.171875 66.40625 20.328125 58.90625 \r\nQ 16.5 51.421875 16.5 36.375 \r\nQ 16.5 21.390625 20.328125 13.890625 \r\nQ 24.171875 6.390625 31.78125 6.390625 \r\nQ 39.453125 6.390625 43.28125 13.890625 \r\nQ 47.125 21.390625 47.125 36.375 \r\nQ 47.125 51.421875 43.28125 58.90625 \r\nQ 39.453125 66.40625 31.78125 66.40625 \r\nz\r\nM 31.78125 74.21875 \r\nQ 44.046875 74.21875 50.515625 64.515625 \r\nQ 56.984375 54.828125 56.984375 36.375 \r\nQ 56.984375 17.96875 50.515625 8.265625 \r\nQ 44.046875 -1.421875 31.78125 -1.421875 \r\nQ 19.53125 -1.421875 13.0625 8.265625 \r\nQ 6.59375 17.96875 6.59375 36.375 \r\nQ 6.59375 54.828125 13.0625 64.515625 \r\nQ 19.53125 74.21875 31.78125 74.21875 \r\nz\r\n\" id=\"DejaVuSans-48\"/>\r\n       </defs>\r\n       <use xlink:href=\"#DejaVuSans-51\"/>\r\n       <use x=\"63.623047\" xlink:href=\"#DejaVuSans-48\"/>\r\n      </g>\r\n     </g>\r\n    </g>\r\n    <g id=\"xtick_2\">\r\n     <g id=\"line2d_2\">\r\n      <g>\r\n       <use style=\"stroke:#000000;stroke-width:0.8;\" x=\"131.933807\" xlink:href=\"#m3815094b18\" y=\"239.758125\"/>\r\n      </g>\r\n     </g>\r\n     <g id=\"text_2\">\r\n      <!-- 40 -->\r\n      <g transform=\"translate(125.571307 254.356562)scale(0.1 -0.1)\">\r\n       <defs>\r\n        <path d=\"M 37.796875 64.3125 \r\nL 12.890625 25.390625 \r\nL 37.796875 25.390625 \r\nz\r\nM 35.203125 72.90625 \r\nL 47.609375 72.90625 \r\nL 47.609375 25.390625 \r\nL 58.015625 25.390625 \r\nL 58.015625 17.1875 \r\nL 47.609375 17.1875 \r\nL 47.609375 0 \r\nL 37.796875 0 \r\nL 37.796875 17.1875 \r\nL 4.890625 17.1875 \r\nL 4.890625 26.703125 \r\nz\r\n\" id=\"DejaVuSans-52\"/>\r\n       </defs>\r\n       <use xlink:href=\"#DejaVuSans-52\"/>\r\n       <use x=\"63.623047\" xlink:href=\"#DejaVuSans-48\"/>\r\n      </g>\r\n     </g>\r\n    </g>\r\n    <g id=\"xtick_3\">\r\n     <g id=\"line2d_3\">\r\n      <g>\r\n       <use style=\"stroke:#000000;stroke-width:0.8;\" x=\"195.342898\" xlink:href=\"#m3815094b18\" y=\"239.758125\"/>\r\n      </g>\r\n     </g>\r\n     <g id=\"text_3\">\r\n      <!-- 50 -->\r\n      <g transform=\"translate(188.980398 254.356562)scale(0.1 -0.1)\">\r\n       <defs>\r\n        <path d=\"M 10.796875 72.90625 \r\nL 49.515625 72.90625 \r\nL 49.515625 64.59375 \r\nL 19.828125 64.59375 \r\nL 19.828125 46.734375 \r\nQ 21.96875 47.46875 24.109375 47.828125 \r\nQ 26.265625 48.1875 28.421875 48.1875 \r\nQ 40.625 48.1875 47.75 41.5 \r\nQ 54.890625 34.8125 54.890625 23.390625 \r\nQ 54.890625 11.625 47.5625 5.09375 \r\nQ 40.234375 -1.421875 26.90625 -1.421875 \r\nQ 22.3125 -1.421875 17.546875 -0.640625 \r\nQ 12.796875 0.140625 7.71875 1.703125 \r\nL 7.71875 11.625 \r\nQ 12.109375 9.234375 16.796875 8.0625 \r\nQ 21.484375 6.890625 26.703125 6.890625 \r\nQ 35.15625 6.890625 40.078125 11.328125 \r\nQ 45.015625 15.765625 45.015625 23.390625 \r\nQ 45.015625 31 40.078125 35.4375 \r\nQ 35.15625 39.890625 26.703125 39.890625 \r\nQ 22.75 39.890625 18.8125 39.015625 \r\nQ 14.890625 38.140625 10.796875 36.28125 \r\nz\r\n\" id=\"DejaVuSans-53\"/>\r\n       </defs>\r\n       <use xlink:href=\"#DejaVuSans-53\"/>\r\n       <use x=\"63.623047\" xlink:href=\"#DejaVuSans-48\"/>\r\n      </g>\r\n     </g>\r\n    </g>\r\n    <g id=\"xtick_4\">\r\n     <g id=\"line2d_4\">\r\n      <g>\r\n       <use style=\"stroke:#000000;stroke-width:0.8;\" x=\"258.751989\" xlink:href=\"#m3815094b18\" y=\"239.758125\"/>\r\n      </g>\r\n     </g>\r\n     <g id=\"text_4\">\r\n      <!-- 60 -->\r\n      <g transform=\"translate(252.389489 254.356562)scale(0.1 -0.1)\">\r\n       <defs>\r\n        <path d=\"M 33.015625 40.375 \r\nQ 26.375 40.375 22.484375 35.828125 \r\nQ 18.609375 31.296875 18.609375 23.390625 \r\nQ 18.609375 15.53125 22.484375 10.953125 \r\nQ 26.375 6.390625 33.015625 6.390625 \r\nQ 39.65625 6.390625 43.53125 10.953125 \r\nQ 47.40625 15.53125 47.40625 23.390625 \r\nQ 47.40625 31.296875 43.53125 35.828125 \r\nQ 39.65625 40.375 33.015625 40.375 \r\nz\r\nM 52.59375 71.296875 \r\nL 52.59375 62.3125 \r\nQ 48.875 64.0625 45.09375 64.984375 \r\nQ 41.3125 65.921875 37.59375 65.921875 \r\nQ 27.828125 65.921875 22.671875 59.328125 \r\nQ 17.53125 52.734375 16.796875 39.40625 \r\nQ 19.671875 43.65625 24.015625 45.921875 \r\nQ 28.375 48.1875 33.59375 48.1875 \r\nQ 44.578125 48.1875 50.953125 41.515625 \r\nQ 57.328125 34.859375 57.328125 23.390625 \r\nQ 57.328125 12.15625 50.6875 5.359375 \r\nQ 44.046875 -1.421875 33.015625 -1.421875 \r\nQ 20.359375 -1.421875 13.671875 8.265625 \r\nQ 6.984375 17.96875 6.984375 36.375 \r\nQ 6.984375 53.65625 15.1875 63.9375 \r\nQ 23.390625 74.21875 37.203125 74.21875 \r\nQ 40.921875 74.21875 44.703125 73.484375 \r\nQ 48.484375 72.75 52.59375 71.296875 \r\nz\r\n\" id=\"DejaVuSans-54\"/>\r\n       </defs>\r\n       <use xlink:href=\"#DejaVuSans-54\"/>\r\n       <use x=\"63.623047\" xlink:href=\"#DejaVuSans-48\"/>\r\n      </g>\r\n     </g>\r\n    </g>\r\n    <g id=\"xtick_5\">\r\n     <g id=\"line2d_5\">\r\n      <g>\r\n       <use style=\"stroke:#000000;stroke-width:0.8;\" x=\"322.16108\" xlink:href=\"#m3815094b18\" y=\"239.758125\"/>\r\n      </g>\r\n     </g>\r\n     <g id=\"text_5\">\r\n      <!-- 70 -->\r\n      <g transform=\"translate(315.79858 254.356562)scale(0.1 -0.1)\">\r\n       <defs>\r\n        <path d=\"M 8.203125 72.90625 \r\nL 55.078125 72.90625 \r\nL 55.078125 68.703125 \r\nL 28.609375 0 \r\nL 18.3125 0 \r\nL 43.21875 64.59375 \r\nL 8.203125 64.59375 \r\nz\r\n\" id=\"DejaVuSans-55\"/>\r\n       </defs>\r\n       <use xlink:href=\"#DejaVuSans-55\"/>\r\n       <use x=\"63.623047\" xlink:href=\"#DejaVuSans-48\"/>\r\n      </g>\r\n     </g>\r\n    </g>\r\n    <g id=\"text_6\">\r\n     <!-- Age -->\r\n     <g transform=\"translate(204.694531 268.034687)scale(0.1 -0.1)\">\r\n      <defs>\r\n       <path d=\"M 34.1875 63.1875 \r\nL 20.796875 26.90625 \r\nL 47.609375 26.90625 \r\nz\r\nM 28.609375 72.90625 \r\nL 39.796875 72.90625 \r\nL 67.578125 0 \r\nL 57.328125 0 \r\nL 50.6875 18.703125 \r\nL 17.828125 18.703125 \r\nL 11.1875 0 \r\nL 0.78125 0 \r\nz\r\n\" id=\"DejaVuSans-65\"/>\r\n       <path d=\"M 45.40625 27.984375 \r\nQ 45.40625 37.75 41.375 43.109375 \r\nQ 37.359375 48.484375 30.078125 48.484375 \r\nQ 22.859375 48.484375 18.828125 43.109375 \r\nQ 14.796875 37.75 14.796875 27.984375 \r\nQ 14.796875 18.265625 18.828125 12.890625 \r\nQ 22.859375 7.515625 30.078125 7.515625 \r\nQ 37.359375 7.515625 41.375 12.890625 \r\nQ 45.40625 18.265625 45.40625 27.984375 \r\nz\r\nM 54.390625 6.78125 \r\nQ 54.390625 -7.171875 48.1875 -13.984375 \r\nQ 42 -20.796875 29.203125 -20.796875 \r\nQ 24.46875 -20.796875 20.265625 -20.09375 \r\nQ 16.0625 -19.390625 12.109375 -17.921875 \r\nL 12.109375 -9.1875 \r\nQ 16.0625 -11.328125 19.921875 -12.34375 \r\nQ 23.78125 -13.375 27.78125 -13.375 \r\nQ 36.625 -13.375 41.015625 -8.765625 \r\nQ 45.40625 -4.15625 45.40625 5.171875 \r\nL 45.40625 9.625 \r\nQ 42.625 4.78125 38.28125 2.390625 \r\nQ 33.9375 0 27.875 0 \r\nQ 17.828125 0 11.671875 7.65625 \r\nQ 5.515625 15.328125 5.515625 27.984375 \r\nQ 5.515625 40.671875 11.671875 48.328125 \r\nQ 17.828125 56 27.875 56 \r\nQ 33.9375 56 38.28125 53.609375 \r\nQ 42.625 51.21875 45.40625 46.390625 \r\nL 45.40625 54.6875 \r\nL 54.390625 54.6875 \r\nz\r\n\" id=\"DejaVuSans-103\"/>\r\n       <path d=\"M 56.203125 29.59375 \r\nL 56.203125 25.203125 \r\nL 14.890625 25.203125 \r\nQ 15.484375 15.921875 20.484375 11.0625 \r\nQ 25.484375 6.203125 34.421875 6.203125 \r\nQ 39.59375 6.203125 44.453125 7.46875 \r\nQ 49.3125 8.734375 54.109375 11.28125 \r\nL 54.109375 2.78125 \r\nQ 49.265625 0.734375 44.1875 -0.34375 \r\nQ 39.109375 -1.421875 33.890625 -1.421875 \r\nQ 20.796875 -1.421875 13.15625 6.1875 \r\nQ 5.515625 13.8125 5.515625 26.8125 \r\nQ 5.515625 40.234375 12.765625 48.109375 \r\nQ 20.015625 56 32.328125 56 \r\nQ 43.359375 56 49.78125 48.890625 \r\nQ 56.203125 41.796875 56.203125 29.59375 \r\nz\r\nM 47.21875 32.234375 \r\nQ 47.125 39.59375 43.09375 43.984375 \r\nQ 39.0625 48.390625 32.421875 48.390625 \r\nQ 24.90625 48.390625 20.390625 44.140625 \r\nQ 15.875 39.890625 15.1875 32.171875 \r\nz\r\n\" id=\"DejaVuSans-101\"/>\r\n      </defs>\r\n      <use xlink:href=\"#DejaVuSans-65\"/>\r\n      <use x=\"68.408203\" xlink:href=\"#DejaVuSans-103\"/>\r\n      <use x=\"131.884766\" xlink:href=\"#DejaVuSans-101\"/>\r\n     </g>\r\n    </g>\r\n   </g>\r\n   <g id=\"matplotlib.axis_2\">\r\n    <g id=\"ytick_1\">\r\n     <g id=\"line2d_6\">\r\n      <defs>\r\n       <path d=\"M 0 0 \r\nL -3.5 0 \r\n\" id=\"mfd37aa2e4b\" style=\"stroke:#000000;stroke-width:0.8;\"/>\r\n      </defs>\r\n      <g>\r\n       <use style=\"stroke:#000000;stroke-width:0.8;\" x=\"46.965625\" xlink:href=\"#mfd37aa2e4b\" y=\"218.685466\"/>\r\n      </g>\r\n     </g>\r\n     <g id=\"text_7\">\r\n      <!-- 100 -->\r\n      <g transform=\"translate(20.878125 222.484685)scale(0.1 -0.1)\">\r\n       <defs>\r\n        <path d=\"M 12.40625 8.296875 \r\nL 28.515625 8.296875 \r\nL 28.515625 63.921875 \r\nL 10.984375 60.40625 \r\nL 10.984375 69.390625 \r\nL 28.421875 72.90625 \r\nL 38.28125 72.90625 \r\nL 38.28125 8.296875 \r\nL 54.390625 8.296875 \r\nL 54.390625 0 \r\nL 12.40625 0 \r\nz\r\n\" id=\"DejaVuSans-49\"/>\r\n       </defs>\r\n       <use xlink:href=\"#DejaVuSans-49\"/>\r\n       <use x=\"63.623047\" xlink:href=\"#DejaVuSans-48\"/>\r\n       <use x=\"127.246094\" xlink:href=\"#DejaVuSans-48\"/>\r\n      </g>\r\n     </g>\r\n    </g>\r\n    <g id=\"ytick_2\">\r\n     <g id=\"line2d_7\">\r\n      <g>\r\n       <use style=\"stroke:#000000;stroke-width:0.8;\" x=\"46.965625\" xlink:href=\"#mfd37aa2e4b\" y=\"181.388725\"/>\r\n      </g>\r\n     </g>\r\n     <g id=\"text_8\">\r\n      <!-- 120 -->\r\n      <g transform=\"translate(20.878125 185.187944)scale(0.1 -0.1)\">\r\n       <defs>\r\n        <path d=\"M 19.1875 8.296875 \r\nL 53.609375 8.296875 \r\nL 53.609375 0 \r\nL 7.328125 0 \r\nL 7.328125 8.296875 \r\nQ 12.9375 14.109375 22.625 23.890625 \r\nQ 32.328125 33.6875 34.8125 36.53125 \r\nQ 39.546875 41.84375 41.421875 45.53125 \r\nQ 43.3125 49.21875 43.3125 52.78125 \r\nQ 43.3125 58.59375 39.234375 62.25 \r\nQ 35.15625 65.921875 28.609375 65.921875 \r\nQ 23.96875 65.921875 18.8125 64.3125 \r\nQ 13.671875 62.703125 7.8125 59.421875 \r\nL 7.8125 69.390625 \r\nQ 13.765625 71.78125 18.9375 73 \r\nQ 24.125 74.21875 28.421875 74.21875 \r\nQ 39.75 74.21875 46.484375 68.546875 \r\nQ 53.21875 62.890625 53.21875 53.421875 \r\nQ 53.21875 48.921875 51.53125 44.890625 \r\nQ 49.859375 40.875 45.40625 35.40625 \r\nQ 44.1875 33.984375 37.640625 27.21875 \r\nQ 31.109375 20.453125 19.1875 8.296875 \r\nz\r\n\" id=\"DejaVuSans-50\"/>\r\n       </defs>\r\n       <use xlink:href=\"#DejaVuSans-49\"/>\r\n       <use x=\"63.623047\" xlink:href=\"#DejaVuSans-50\"/>\r\n       <use x=\"127.246094\" xlink:href=\"#DejaVuSans-48\"/>\r\n      </g>\r\n     </g>\r\n    </g>\r\n    <g id=\"ytick_3\">\r\n     <g id=\"line2d_8\">\r\n      <g>\r\n       <use style=\"stroke:#000000;stroke-width:0.8;\" x=\"46.965625\" xlink:href=\"#mfd37aa2e4b\" y=\"144.091984\"/>\r\n      </g>\r\n     </g>\r\n     <g id=\"text_9\">\r\n      <!-- 140 -->\r\n      <g transform=\"translate(20.878125 147.891203)scale(0.1 -0.1)\">\r\n       <use xlink:href=\"#DejaVuSans-49\"/>\r\n       <use x=\"63.623047\" xlink:href=\"#DejaVuSans-52\"/>\r\n       <use x=\"127.246094\" xlink:href=\"#DejaVuSans-48\"/>\r\n      </g>\r\n     </g>\r\n    </g>\r\n    <g id=\"ytick_4\">\r\n     <g id=\"line2d_9\">\r\n      <g>\r\n       <use style=\"stroke:#000000;stroke-width:0.8;\" x=\"46.965625\" xlink:href=\"#mfd37aa2e4b\" y=\"106.795243\"/>\r\n      </g>\r\n     </g>\r\n     <g id=\"text_10\">\r\n      <!-- 160 -->\r\n      <g transform=\"translate(20.878125 110.594462)scale(0.1 -0.1)\">\r\n       <use xlink:href=\"#DejaVuSans-49\"/>\r\n       <use x=\"63.623047\" xlink:href=\"#DejaVuSans-54\"/>\r\n       <use x=\"127.246094\" xlink:href=\"#DejaVuSans-48\"/>\r\n      </g>\r\n     </g>\r\n    </g>\r\n    <g id=\"ytick_5\">\r\n     <g id=\"line2d_10\">\r\n      <g>\r\n       <use style=\"stroke:#000000;stroke-width:0.8;\" x=\"46.965625\" xlink:href=\"#mfd37aa2e4b\" y=\"69.498502\"/>\r\n      </g>\r\n     </g>\r\n     <g id=\"text_11\">\r\n      <!-- 180 -->\r\n      <g transform=\"translate(20.878125 73.297721)scale(0.1 -0.1)\">\r\n       <defs>\r\n        <path d=\"M 31.78125 34.625 \r\nQ 24.75 34.625 20.71875 30.859375 \r\nQ 16.703125 27.09375 16.703125 20.515625 \r\nQ 16.703125 13.921875 20.71875 10.15625 \r\nQ 24.75 6.390625 31.78125 6.390625 \r\nQ 38.8125 6.390625 42.859375 10.171875 \r\nQ 46.921875 13.96875 46.921875 20.515625 \r\nQ 46.921875 27.09375 42.890625 30.859375 \r\nQ 38.875 34.625 31.78125 34.625 \r\nz\r\nM 21.921875 38.8125 \r\nQ 15.578125 40.375 12.03125 44.71875 \r\nQ 8.5 49.078125 8.5 55.328125 \r\nQ 8.5 64.0625 14.71875 69.140625 \r\nQ 20.953125 74.21875 31.78125 74.21875 \r\nQ 42.671875 74.21875 48.875 69.140625 \r\nQ 55.078125 64.0625 55.078125 55.328125 \r\nQ 55.078125 49.078125 51.53125 44.71875 \r\nQ 48 40.375 41.703125 38.8125 \r\nQ 48.828125 37.15625 52.796875 32.3125 \r\nQ 56.78125 27.484375 56.78125 20.515625 \r\nQ 56.78125 9.90625 50.3125 4.234375 \r\nQ 43.84375 -1.421875 31.78125 -1.421875 \r\nQ 19.734375 -1.421875 13.25 4.234375 \r\nQ 6.78125 9.90625 6.78125 20.515625 \r\nQ 6.78125 27.484375 10.78125 32.3125 \r\nQ 14.796875 37.15625 21.921875 38.8125 \r\nz\r\nM 18.3125 54.390625 \r\nQ 18.3125 48.734375 21.84375 45.5625 \r\nQ 25.390625 42.390625 31.78125 42.390625 \r\nQ 38.140625 42.390625 41.71875 45.5625 \r\nQ 45.3125 48.734375 45.3125 54.390625 \r\nQ 45.3125 60.0625 41.71875 63.234375 \r\nQ 38.140625 66.40625 31.78125 66.40625 \r\nQ 25.390625 66.40625 21.84375 63.234375 \r\nQ 18.3125 60.0625 18.3125 54.390625 \r\nz\r\n\" id=\"DejaVuSans-56\"/>\r\n       </defs>\r\n       <use xlink:href=\"#DejaVuSans-49\"/>\r\n       <use x=\"63.623047\" xlink:href=\"#DejaVuSans-56\"/>\r\n       <use x=\"127.246094\" xlink:href=\"#DejaVuSans-48\"/>\r\n      </g>\r\n     </g>\r\n    </g>\r\n    <g id=\"ytick_6\">\r\n     <g id=\"line2d_11\">\r\n      <g>\r\n       <use style=\"stroke:#000000;stroke-width:0.8;\" x=\"46.965625\" xlink:href=\"#mfd37aa2e4b\" y=\"32.201761\"/>\r\n      </g>\r\n     </g>\r\n     <g id=\"text_12\">\r\n      <!-- 200 -->\r\n      <g transform=\"translate(20.878125 36.00098)scale(0.1 -0.1)\">\r\n       <use xlink:href=\"#DejaVuSans-50\"/>\r\n       <use x=\"63.623047\" xlink:href=\"#DejaVuSans-48\"/>\r\n       <use x=\"127.246094\" xlink:href=\"#DejaVuSans-48\"/>\r\n      </g>\r\n     </g>\r\n    </g>\r\n    <g id=\"text_13\">\r\n     <!-- Resting Blood Pressure -->\r\n     <g transform=\"translate(14.798438 188.295937)rotate(-90)scale(0.1 -0.1)\">\r\n      <defs>\r\n       <path d=\"M 44.390625 34.1875 \r\nQ 47.5625 33.109375 50.5625 29.59375 \r\nQ 53.5625 26.078125 56.59375 19.921875 \r\nL 66.609375 0 \r\nL 56 0 \r\nL 46.6875 18.703125 \r\nQ 43.0625 26.03125 39.671875 28.421875 \r\nQ 36.28125 30.8125 30.421875 30.8125 \r\nL 19.671875 30.8125 \r\nL 19.671875 0 \r\nL 9.8125 0 \r\nL 9.8125 72.90625 \r\nL 32.078125 72.90625 \r\nQ 44.578125 72.90625 50.734375 67.671875 \r\nQ 56.890625 62.453125 56.890625 51.90625 \r\nQ 56.890625 45.015625 53.6875 40.46875 \r\nQ 50.484375 35.9375 44.390625 34.1875 \r\nz\r\nM 19.671875 64.796875 \r\nL 19.671875 38.921875 \r\nL 32.078125 38.921875 \r\nQ 39.203125 38.921875 42.84375 42.21875 \r\nQ 46.484375 45.515625 46.484375 51.90625 \r\nQ 46.484375 58.296875 42.84375 61.546875 \r\nQ 39.203125 64.796875 32.078125 64.796875 \r\nz\r\n\" id=\"DejaVuSans-82\"/>\r\n       <path d=\"M 44.28125 53.078125 \r\nL 44.28125 44.578125 \r\nQ 40.484375 46.53125 36.375 47.5 \r\nQ 32.28125 48.484375 27.875 48.484375 \r\nQ 21.1875 48.484375 17.84375 46.4375 \r\nQ 14.5 44.390625 14.5 40.28125 \r\nQ 14.5 37.15625 16.890625 35.375 \r\nQ 19.28125 33.59375 26.515625 31.984375 \r\nL 29.59375 31.296875 \r\nQ 39.15625 29.25 43.1875 25.515625 \r\nQ 47.21875 21.78125 47.21875 15.09375 \r\nQ 47.21875 7.46875 41.1875 3.015625 \r\nQ 35.15625 -1.421875 24.609375 -1.421875 \r\nQ 20.21875 -1.421875 15.453125 -0.5625 \r\nQ 10.6875 0.296875 5.421875 2 \r\nL 5.421875 11.28125 \r\nQ 10.40625 8.6875 15.234375 7.390625 \r\nQ 20.0625 6.109375 24.8125 6.109375 \r\nQ 31.15625 6.109375 34.5625 8.28125 \r\nQ 37.984375 10.453125 37.984375 14.40625 \r\nQ 37.984375 18.0625 35.515625 20.015625 \r\nQ 33.0625 21.96875 24.703125 23.78125 \r\nL 21.578125 24.515625 \r\nQ 13.234375 26.265625 9.515625 29.90625 \r\nQ 5.8125 33.546875 5.8125 39.890625 \r\nQ 5.8125 47.609375 11.28125 51.796875 \r\nQ 16.75 56 26.8125 56 \r\nQ 31.78125 56 36.171875 55.265625 \r\nQ 40.578125 54.546875 44.28125 53.078125 \r\nz\r\n\" id=\"DejaVuSans-115\"/>\r\n       <path d=\"M 18.3125 70.21875 \r\nL 18.3125 54.6875 \r\nL 36.8125 54.6875 \r\nL 36.8125 47.703125 \r\nL 18.3125 47.703125 \r\nL 18.3125 18.015625 \r\nQ 18.3125 11.328125 20.140625 9.421875 \r\nQ 21.96875 7.515625 27.59375 7.515625 \r\nL 36.8125 7.515625 \r\nL 36.8125 0 \r\nL 27.59375 0 \r\nQ 17.1875 0 13.234375 3.875 \r\nQ 9.28125 7.765625 9.28125 18.015625 \r\nL 9.28125 47.703125 \r\nL 2.6875 47.703125 \r\nL 2.6875 54.6875 \r\nL 9.28125 54.6875 \r\nL 9.28125 70.21875 \r\nz\r\n\" id=\"DejaVuSans-116\"/>\r\n       <path d=\"M 9.421875 54.6875 \r\nL 18.40625 54.6875 \r\nL 18.40625 0 \r\nL 9.421875 0 \r\nz\r\nM 9.421875 75.984375 \r\nL 18.40625 75.984375 \r\nL 18.40625 64.59375 \r\nL 9.421875 64.59375 \r\nz\r\n\" id=\"DejaVuSans-105\"/>\r\n       <path d=\"M 54.890625 33.015625 \r\nL 54.890625 0 \r\nL 45.90625 0 \r\nL 45.90625 32.71875 \r\nQ 45.90625 40.484375 42.875 44.328125 \r\nQ 39.84375 48.1875 33.796875 48.1875 \r\nQ 26.515625 48.1875 22.3125 43.546875 \r\nQ 18.109375 38.921875 18.109375 30.90625 \r\nL 18.109375 0 \r\nL 9.078125 0 \r\nL 9.078125 54.6875 \r\nL 18.109375 54.6875 \r\nL 18.109375 46.1875 \r\nQ 21.34375 51.125 25.703125 53.5625 \r\nQ 30.078125 56 35.796875 56 \r\nQ 45.21875 56 50.046875 50.171875 \r\nQ 54.890625 44.34375 54.890625 33.015625 \r\nz\r\n\" id=\"DejaVuSans-110\"/>\r\n       <path id=\"DejaVuSans-32\"/>\r\n       <path d=\"M 19.671875 34.8125 \r\nL 19.671875 8.109375 \r\nL 35.5 8.109375 \r\nQ 43.453125 8.109375 47.28125 11.40625 \r\nQ 51.125 14.703125 51.125 21.484375 \r\nQ 51.125 28.328125 47.28125 31.5625 \r\nQ 43.453125 34.8125 35.5 34.8125 \r\nz\r\nM 19.671875 64.796875 \r\nL 19.671875 42.828125 \r\nL 34.28125 42.828125 \r\nQ 41.5 42.828125 45.03125 45.53125 \r\nQ 48.578125 48.25 48.578125 53.8125 \r\nQ 48.578125 59.328125 45.03125 62.0625 \r\nQ 41.5 64.796875 34.28125 64.796875 \r\nz\r\nM 9.8125 72.90625 \r\nL 35.015625 72.90625 \r\nQ 46.296875 72.90625 52.390625 68.21875 \r\nQ 58.5 63.53125 58.5 54.890625 \r\nQ 58.5 48.1875 55.375 44.234375 \r\nQ 52.25 40.28125 46.1875 39.3125 \r\nQ 53.46875 37.75 57.5 32.78125 \r\nQ 61.53125 27.828125 61.53125 20.40625 \r\nQ 61.53125 10.640625 54.890625 5.3125 \r\nQ 48.25 0 35.984375 0 \r\nL 9.8125 0 \r\nz\r\n\" id=\"DejaVuSans-66\"/>\r\n       <path d=\"M 9.421875 75.984375 \r\nL 18.40625 75.984375 \r\nL 18.40625 0 \r\nL 9.421875 0 \r\nz\r\n\" id=\"DejaVuSans-108\"/>\r\n       <path d=\"M 30.609375 48.390625 \r\nQ 23.390625 48.390625 19.1875 42.75 \r\nQ 14.984375 37.109375 14.984375 27.296875 \r\nQ 14.984375 17.484375 19.15625 11.84375 \r\nQ 23.34375 6.203125 30.609375 6.203125 \r\nQ 37.796875 6.203125 41.984375 11.859375 \r\nQ 46.1875 17.53125 46.1875 27.296875 \r\nQ 46.1875 37.015625 41.984375 42.703125 \r\nQ 37.796875 48.390625 30.609375 48.390625 \r\nz\r\nM 30.609375 56 \r\nQ 42.328125 56 49.015625 48.375 \r\nQ 55.71875 40.765625 55.71875 27.296875 \r\nQ 55.71875 13.875 49.015625 6.21875 \r\nQ 42.328125 -1.421875 30.609375 -1.421875 \r\nQ 18.84375 -1.421875 12.171875 6.21875 \r\nQ 5.515625 13.875 5.515625 27.296875 \r\nQ 5.515625 40.765625 12.171875 48.375 \r\nQ 18.84375 56 30.609375 56 \r\nz\r\n\" id=\"DejaVuSans-111\"/>\r\n       <path d=\"M 45.40625 46.390625 \r\nL 45.40625 75.984375 \r\nL 54.390625 75.984375 \r\nL 54.390625 0 \r\nL 45.40625 0 \r\nL 45.40625 8.203125 \r\nQ 42.578125 3.328125 38.25 0.953125 \r\nQ 33.9375 -1.421875 27.875 -1.421875 \r\nQ 17.96875 -1.421875 11.734375 6.484375 \r\nQ 5.515625 14.40625 5.515625 27.296875 \r\nQ 5.515625 40.1875 11.734375 48.09375 \r\nQ 17.96875 56 27.875 56 \r\nQ 33.9375 56 38.25 53.625 \r\nQ 42.578125 51.265625 45.40625 46.390625 \r\nz\r\nM 14.796875 27.296875 \r\nQ 14.796875 17.390625 18.875 11.75 \r\nQ 22.953125 6.109375 30.078125 6.109375 \r\nQ 37.203125 6.109375 41.296875 11.75 \r\nQ 45.40625 17.390625 45.40625 27.296875 \r\nQ 45.40625 37.203125 41.296875 42.84375 \r\nQ 37.203125 48.484375 30.078125 48.484375 \r\nQ 22.953125 48.484375 18.875 42.84375 \r\nQ 14.796875 37.203125 14.796875 27.296875 \r\nz\r\n\" id=\"DejaVuSans-100\"/>\r\n       <path d=\"M 19.671875 64.796875 \r\nL 19.671875 37.40625 \r\nL 32.078125 37.40625 \r\nQ 38.96875 37.40625 42.71875 40.96875 \r\nQ 46.484375 44.53125 46.484375 51.125 \r\nQ 46.484375 57.671875 42.71875 61.234375 \r\nQ 38.96875 64.796875 32.078125 64.796875 \r\nz\r\nM 9.8125 72.90625 \r\nL 32.078125 72.90625 \r\nQ 44.34375 72.90625 50.609375 67.359375 \r\nQ 56.890625 61.8125 56.890625 51.125 \r\nQ 56.890625 40.328125 50.609375 34.8125 \r\nQ 44.34375 29.296875 32.078125 29.296875 \r\nL 19.671875 29.296875 \r\nL 19.671875 0 \r\nL 9.8125 0 \r\nz\r\n\" id=\"DejaVuSans-80\"/>\r\n       <path d=\"M 41.109375 46.296875 \r\nQ 39.59375 47.171875 37.8125 47.578125 \r\nQ 36.03125 48 33.890625 48 \r\nQ 26.265625 48 22.1875 43.046875 \r\nQ 18.109375 38.09375 18.109375 28.8125 \r\nL 18.109375 0 \r\nL 9.078125 0 \r\nL 9.078125 54.6875 \r\nL 18.109375 54.6875 \r\nL 18.109375 46.1875 \r\nQ 20.953125 51.171875 25.484375 53.578125 \r\nQ 30.03125 56 36.53125 56 \r\nQ 37.453125 56 38.578125 55.875 \r\nQ 39.703125 55.765625 41.0625 55.515625 \r\nz\r\n\" id=\"DejaVuSans-114\"/>\r\n       <path d=\"M 8.5 21.578125 \r\nL 8.5 54.6875 \r\nL 17.484375 54.6875 \r\nL 17.484375 21.921875 \r\nQ 17.484375 14.15625 20.5 10.265625 \r\nQ 23.53125 6.390625 29.59375 6.390625 \r\nQ 36.859375 6.390625 41.078125 11.03125 \r\nQ 45.3125 15.671875 45.3125 23.6875 \r\nL 45.3125 54.6875 \r\nL 54.296875 54.6875 \r\nL 54.296875 0 \r\nL 45.3125 0 \r\nL 45.3125 8.40625 \r\nQ 42.046875 3.421875 37.71875 1 \r\nQ 33.40625 -1.421875 27.6875 -1.421875 \r\nQ 18.265625 -1.421875 13.375 4.4375 \r\nQ 8.5 10.296875 8.5 21.578125 \r\nz\r\nM 31.109375 56 \r\nz\r\n\" id=\"DejaVuSans-117\"/>\r\n      </defs>\r\n      <use xlink:href=\"#DejaVuSans-82\"/>\r\n      <use x=\"64.982422\" xlink:href=\"#DejaVuSans-101\"/>\r\n      <use x=\"126.505859\" xlink:href=\"#DejaVuSans-115\"/>\r\n      <use x=\"178.605469\" xlink:href=\"#DejaVuSans-116\"/>\r\n      <use x=\"217.814453\" xlink:href=\"#DejaVuSans-105\"/>\r\n      <use x=\"245.597656\" xlink:href=\"#DejaVuSans-110\"/>\r\n      <use x=\"308.976562\" xlink:href=\"#DejaVuSans-103\"/>\r\n      <use x=\"372.453125\" xlink:href=\"#DejaVuSans-32\"/>\r\n      <use x=\"404.240234\" xlink:href=\"#DejaVuSans-66\"/>\r\n      <use x=\"472.84375\" xlink:href=\"#DejaVuSans-108\"/>\r\n      <use x=\"500.626953\" xlink:href=\"#DejaVuSans-111\"/>\r\n      <use x=\"561.808594\" xlink:href=\"#DejaVuSans-111\"/>\r\n      <use x=\"622.990234\" xlink:href=\"#DejaVuSans-100\"/>\r\n      <use x=\"686.466797\" xlink:href=\"#DejaVuSans-32\"/>\r\n      <use x=\"718.253906\" xlink:href=\"#DejaVuSans-80\"/>\r\n      <use x=\"776.806641\" xlink:href=\"#DejaVuSans-114\"/>\r\n      <use x=\"815.669922\" xlink:href=\"#DejaVuSans-101\"/>\r\n      <use x=\"877.193359\" xlink:href=\"#DejaVuSans-115\"/>\r\n      <use x=\"929.292969\" xlink:href=\"#DejaVuSans-115\"/>\r\n      <use x=\"981.392578\" xlink:href=\"#DejaVuSans-117\"/>\r\n      <use x=\"1044.771484\" xlink:href=\"#DejaVuSans-114\"/>\r\n      <use x=\"1083.634766\" xlink:href=\"#DejaVuSans-101\"/>\r\n     </g>\r\n    </g>\r\n   </g>\r\n   <g id=\"patch_3\">\r\n    <path d=\"M 46.965625 239.758125 \r\nL 46.965625 22.318125 \r\n\" style=\"fill:none;stroke:#000000;stroke-linecap:square;stroke-linejoin:miter;stroke-width:0.8;\"/>\r\n   </g>\r\n   <g id=\"patch_4\">\r\n    <path d=\"M 381.765625 239.758125 \r\nL 381.765625 22.318125 \r\n\" style=\"fill:none;stroke:#000000;stroke-linecap:square;stroke-linejoin:miter;stroke-width:0.8;\"/>\r\n   </g>\r\n   <g id=\"patch_5\">\r\n    <path d=\"M 46.965625 239.758125 \r\nL 381.765625 239.758125 \r\n\" style=\"fill:none;stroke:#000000;stroke-linecap:square;stroke-linejoin:miter;stroke-width:0.8;\"/>\r\n   </g>\r\n   <g id=\"patch_6\">\r\n    <path d=\"M 46.965625 22.318125 \r\nL 381.765625 22.318125 \r\n\" style=\"fill:none;stroke:#000000;stroke-linecap:square;stroke-linejoin:miter;stroke-width:0.8;\"/>\r\n   </g>\r\n   <g id=\"text_14\">\r\n    <!-- Age vs Resting BP, yellow with Heart Disease -->\r\n    <g transform=\"translate(78.565 16.318125)scale(0.12 -0.12)\">\r\n     <defs>\r\n      <path d=\"M 2.984375 54.6875 \r\nL 12.5 54.6875 \r\nL 29.59375 8.796875 \r\nL 46.6875 54.6875 \r\nL 56.203125 54.6875 \r\nL 35.6875 0 \r\nL 23.484375 0 \r\nz\r\n\" id=\"DejaVuSans-118\"/>\r\n      <path d=\"M 11.71875 12.40625 \r\nL 22.015625 12.40625 \r\nL 22.015625 4 \r\nL 14.015625 -11.625 \r\nL 7.71875 -11.625 \r\nL 11.71875 4 \r\nz\r\n\" id=\"DejaVuSans-44\"/>\r\n      <path d=\"M 32.171875 -5.078125 \r\nQ 28.375 -14.84375 24.75 -17.8125 \r\nQ 21.140625 -20.796875 15.09375 -20.796875 \r\nL 7.90625 -20.796875 \r\nL 7.90625 -13.28125 \r\nL 13.1875 -13.28125 \r\nQ 16.890625 -13.28125 18.9375 -11.515625 \r\nQ 21 -9.765625 23.484375 -3.21875 \r\nL 25.09375 0.875 \r\nL 2.984375 54.6875 \r\nL 12.5 54.6875 \r\nL 29.59375 11.921875 \r\nL 46.6875 54.6875 \r\nL 56.203125 54.6875 \r\nz\r\n\" id=\"DejaVuSans-121\"/>\r\n      <path d=\"M 4.203125 54.6875 \r\nL 13.1875 54.6875 \r\nL 24.421875 12.015625 \r\nL 35.59375 54.6875 \r\nL 46.1875 54.6875 \r\nL 57.421875 12.015625 \r\nL 68.609375 54.6875 \r\nL 77.59375 54.6875 \r\nL 63.28125 0 \r\nL 52.6875 0 \r\nL 40.921875 44.828125 \r\nL 29.109375 0 \r\nL 18.5 0 \r\nz\r\n\" id=\"DejaVuSans-119\"/>\r\n      <path d=\"M 54.890625 33.015625 \r\nL 54.890625 0 \r\nL 45.90625 0 \r\nL 45.90625 32.71875 \r\nQ 45.90625 40.484375 42.875 44.328125 \r\nQ 39.84375 48.1875 33.796875 48.1875 \r\nQ 26.515625 48.1875 22.3125 43.546875 \r\nQ 18.109375 38.921875 18.109375 30.90625 \r\nL 18.109375 0 \r\nL 9.078125 0 \r\nL 9.078125 75.984375 \r\nL 18.109375 75.984375 \r\nL 18.109375 46.1875 \r\nQ 21.34375 51.125 25.703125 53.5625 \r\nQ 30.078125 56 35.796875 56 \r\nQ 45.21875 56 50.046875 50.171875 \r\nQ 54.890625 44.34375 54.890625 33.015625 \r\nz\r\n\" id=\"DejaVuSans-104\"/>\r\n      <path d=\"M 9.8125 72.90625 \r\nL 19.671875 72.90625 \r\nL 19.671875 43.015625 \r\nL 55.515625 43.015625 \r\nL 55.515625 72.90625 \r\nL 65.375 72.90625 \r\nL 65.375 0 \r\nL 55.515625 0 \r\nL 55.515625 34.71875 \r\nL 19.671875 34.71875 \r\nL 19.671875 0 \r\nL 9.8125 0 \r\nz\r\n\" id=\"DejaVuSans-72\"/>\r\n      <path d=\"M 34.28125 27.484375 \r\nQ 23.390625 27.484375 19.1875 25 \r\nQ 14.984375 22.515625 14.984375 16.5 \r\nQ 14.984375 11.71875 18.140625 8.90625 \r\nQ 21.296875 6.109375 26.703125 6.109375 \r\nQ 34.1875 6.109375 38.703125 11.40625 \r\nQ 43.21875 16.703125 43.21875 25.484375 \r\nL 43.21875 27.484375 \r\nz\r\nM 52.203125 31.203125 \r\nL 52.203125 0 \r\nL 43.21875 0 \r\nL 43.21875 8.296875 \r\nQ 40.140625 3.328125 35.546875 0.953125 \r\nQ 30.953125 -1.421875 24.3125 -1.421875 \r\nQ 15.921875 -1.421875 10.953125 3.296875 \r\nQ 6 8.015625 6 15.921875 \r\nQ 6 25.140625 12.171875 29.828125 \r\nQ 18.359375 34.515625 30.609375 34.515625 \r\nL 43.21875 34.515625 \r\nL 43.21875 35.40625 \r\nQ 43.21875 41.609375 39.140625 45 \r\nQ 35.0625 48.390625 27.6875 48.390625 \r\nQ 23 48.390625 18.546875 47.265625 \r\nQ 14.109375 46.140625 10.015625 43.890625 \r\nL 10.015625 52.203125 \r\nQ 14.9375 54.109375 19.578125 55.046875 \r\nQ 24.21875 56 28.609375 56 \r\nQ 40.484375 56 46.34375 49.84375 \r\nQ 52.203125 43.703125 52.203125 31.203125 \r\nz\r\n\" id=\"DejaVuSans-97\"/>\r\n      <path d=\"M 19.671875 64.796875 \r\nL 19.671875 8.109375 \r\nL 31.59375 8.109375 \r\nQ 46.6875 8.109375 53.6875 14.9375 \r\nQ 60.6875 21.78125 60.6875 36.53125 \r\nQ 60.6875 51.171875 53.6875 57.984375 \r\nQ 46.6875 64.796875 31.59375 64.796875 \r\nz\r\nM 9.8125 72.90625 \r\nL 30.078125 72.90625 \r\nQ 51.265625 72.90625 61.171875 64.09375 \r\nQ 71.09375 55.28125 71.09375 36.53125 \r\nQ 71.09375 17.671875 61.125 8.828125 \r\nQ 51.171875 0 30.078125 0 \r\nL 9.8125 0 \r\nz\r\n\" id=\"DejaVuSans-68\"/>\r\n     </defs>\r\n     <use xlink:href=\"#DejaVuSans-65\"/>\r\n     <use x=\"68.408203\" xlink:href=\"#DejaVuSans-103\"/>\r\n     <use x=\"131.884766\" xlink:href=\"#DejaVuSans-101\"/>\r\n     <use x=\"193.408203\" xlink:href=\"#DejaVuSans-32\"/>\r\n     <use x=\"225.195312\" xlink:href=\"#DejaVuSans-118\"/>\r\n     <use x=\"284.375\" xlink:href=\"#DejaVuSans-115\"/>\r\n     <use x=\"336.474609\" xlink:href=\"#DejaVuSans-32\"/>\r\n     <use x=\"368.261719\" xlink:href=\"#DejaVuSans-82\"/>\r\n     <use x=\"433.244141\" xlink:href=\"#DejaVuSans-101\"/>\r\n     <use x=\"494.767578\" xlink:href=\"#DejaVuSans-115\"/>\r\n     <use x=\"546.867188\" xlink:href=\"#DejaVuSans-116\"/>\r\n     <use x=\"586.076172\" xlink:href=\"#DejaVuSans-105\"/>\r\n     <use x=\"613.859375\" xlink:href=\"#DejaVuSans-110\"/>\r\n     <use x=\"677.238281\" xlink:href=\"#DejaVuSans-103\"/>\r\n     <use x=\"740.714844\" xlink:href=\"#DejaVuSans-32\"/>\r\n     <use x=\"772.501953\" xlink:href=\"#DejaVuSans-66\"/>\r\n     <use x=\"841.105469\" xlink:href=\"#DejaVuSans-80\"/>\r\n     <use x=\"901.408203\" xlink:href=\"#DejaVuSans-44\"/>\r\n     <use x=\"933.195312\" xlink:href=\"#DejaVuSans-32\"/>\r\n     <use x=\"964.982422\" xlink:href=\"#DejaVuSans-121\"/>\r\n     <use x=\"1024.162109\" xlink:href=\"#DejaVuSans-101\"/>\r\n     <use x=\"1085.685547\" xlink:href=\"#DejaVuSans-108\"/>\r\n     <use x=\"1113.46875\" xlink:href=\"#DejaVuSans-108\"/>\r\n     <use x=\"1141.251953\" xlink:href=\"#DejaVuSans-111\"/>\r\n     <use x=\"1202.433594\" xlink:href=\"#DejaVuSans-119\"/>\r\n     <use x=\"1284.220703\" xlink:href=\"#DejaVuSans-32\"/>\r\n     <use x=\"1316.007812\" xlink:href=\"#DejaVuSans-119\"/>\r\n     <use x=\"1397.794922\" xlink:href=\"#DejaVuSans-105\"/>\r\n     <use x=\"1425.578125\" xlink:href=\"#DejaVuSans-116\"/>\r\n     <use x=\"1464.787109\" xlink:href=\"#DejaVuSans-104\"/>\r\n     <use x=\"1528.166016\" xlink:href=\"#DejaVuSans-32\"/>\r\n     <use x=\"1559.953125\" xlink:href=\"#DejaVuSans-72\"/>\r\n     <use x=\"1635.148438\" xlink:href=\"#DejaVuSans-101\"/>\r\n     <use x=\"1696.671875\" xlink:href=\"#DejaVuSans-97\"/>\r\n     <use x=\"1757.951172\" xlink:href=\"#DejaVuSans-114\"/>\r\n     <use x=\"1799.064453\" xlink:href=\"#DejaVuSans-116\"/>\r\n     <use x=\"1838.273438\" xlink:href=\"#DejaVuSans-32\"/>\r\n     <use x=\"1870.060547\" xlink:href=\"#DejaVuSans-68\"/>\r\n     <use x=\"1947.0625\" xlink:href=\"#DejaVuSans-105\"/>\r\n     <use x=\"1974.845703\" xlink:href=\"#DejaVuSans-115\"/>\r\n     <use x=\"2026.945312\" xlink:href=\"#DejaVuSans-101\"/>\r\n     <use x=\"2088.46875\" xlink:href=\"#DejaVuSans-97\"/>\r\n     <use x=\"2149.748047\" xlink:href=\"#DejaVuSans-115\"/>\r\n     <use x=\"2201.847656\" xlink:href=\"#DejaVuSans-101\"/>\r\n    </g>\r\n   </g>\r\n  </g>\r\n </g>\r\n <defs>\r\n  <clipPath id=\"p10e1e10f77\">\r\n   <rect height=\"217.44\" width=\"334.8\" x=\"46.965625\" y=\"22.318125\"/>\r\n  </clipPath>\r\n </defs>\r\n</svg>\r\n",
      "image/png": "[encoded data removed]"
     },
     "metadata": {
      "needs_background": "light"
     }
    }
   ],
   "source": [
    "# Generate a new data point (the red circle)\n",
    "import numpy as np\n",
    "new_data = np.array([[50,140,219,168]])\n",
    "plt.title(\"Age vs Resting BP, yellow with Heart Disease\")\n",
    "plt.xlabel(\"Age\")\n",
    "plt.ylabel(\"Resting Blood Pressure\")\n",
    "plt.scatter(X1.age,X1.resting_bp, c='y')\n",
    "plt.scatter(X0.age,X0.resting_bp, c='b')\n",
    "plt.scatter(new_data[0, 0], new_data[0, 1], c=\"r\", marker=\"o\", s=100)"
   ]
  },
  {
   "cell_type": "code",
   "execution_count": 27,
   "metadata": {
    "scrolled": true
   },
   "outputs": [
    {
     "output_type": "error",
     "ename": "ValueError",
     "evalue": "shape mismatch: objects cannot be broadcast to a single shape",
     "traceback": [
      "\u001b[1;31m---------------------------------------------------------------------------\u001b[0m",
      "\u001b[1;31mValueError\u001b[0m                                Traceback (most recent call last)",
      "\u001b[1;32m<ipython-input-27-fab61960bc02>\u001b[0m in \u001b[0;36m<module>\u001b[1;34m\u001b[0m\n\u001b[0;32m      6\u001b[0m \u001b[1;33m\u001b[0m\u001b[0m\n\u001b[0;32m      7\u001b[0m \u001b[1;33m\u001b[0m\u001b[0m\n\u001b[1;32m----> 8\u001b[1;33m \u001b[0mplt\u001b[0m\u001b[1;33m.\u001b[0m\u001b[0mbar\u001b[0m\u001b[1;33m(\u001b[0m\u001b[0mheartdf\u001b[0m\u001b[1;33m[\u001b[0m\u001b[1;34m'age'\u001b[0m\u001b[1;33m]\u001b[0m\u001b[1;33m,\u001b[0m\u001b[0mX1\u001b[0m\u001b[1;33m)\u001b[0m\u001b[1;33m\u001b[0m\u001b[1;33m\u001b[0m\u001b[0m\n\u001b[0m\u001b[0;32m      9\u001b[0m \u001b[1;33m\u001b[0m\u001b[0m\n\u001b[0;32m     10\u001b[0m \u001b[0mplt\u001b[0m\u001b[1;33m.\u001b[0m\u001b[0mshow\u001b[0m\u001b[1;33m(\u001b[0m\u001b[1;33m)\u001b[0m\u001b[1;33m\u001b[0m\u001b[1;33m\u001b[0m\u001b[0m\n",
      "\u001b[1;32m~\\anaconda3\\envs\\project3\\lib\\site-packages\\matplotlib\\pyplot.py\u001b[0m in \u001b[0;36mbar\u001b[1;34m(x, height, width, bottom, align, data, **kwargs)\u001b[0m\n\u001b[0;32m   2487\u001b[0m     return gca().bar(\n\u001b[0;32m   2488\u001b[0m         \u001b[0mx\u001b[0m\u001b[1;33m,\u001b[0m \u001b[0mheight\u001b[0m\u001b[1;33m,\u001b[0m \u001b[0mwidth\u001b[0m\u001b[1;33m=\u001b[0m\u001b[0mwidth\u001b[0m\u001b[1;33m,\u001b[0m \u001b[0mbottom\u001b[0m\u001b[1;33m=\u001b[0m\u001b[0mbottom\u001b[0m\u001b[1;33m,\u001b[0m \u001b[0malign\u001b[0m\u001b[1;33m=\u001b[0m\u001b[0malign\u001b[0m\u001b[1;33m,\u001b[0m\u001b[1;33m\u001b[0m\u001b[1;33m\u001b[0m\u001b[0m\n\u001b[1;32m-> 2489\u001b[1;33m         **({\"data\": data} if data is not None else {}), **kwargs)\n\u001b[0m\u001b[0;32m   2490\u001b[0m \u001b[1;33m\u001b[0m\u001b[0m\n\u001b[0;32m   2491\u001b[0m \u001b[1;33m\u001b[0m\u001b[0m\n",
      "\u001b[1;32m~\\anaconda3\\envs\\project3\\lib\\site-packages\\matplotlib\\__init__.py\u001b[0m in \u001b[0;36minner\u001b[1;34m(ax, data, *args, **kwargs)\u001b[0m\n\u001b[0;32m   1445\u001b[0m     \u001b[1;32mdef\u001b[0m \u001b[0minner\u001b[0m\u001b[1;33m(\u001b[0m\u001b[0max\u001b[0m\u001b[1;33m,\u001b[0m \u001b[1;33m*\u001b[0m\u001b[0margs\u001b[0m\u001b[1;33m,\u001b[0m \u001b[0mdata\u001b[0m\u001b[1;33m=\u001b[0m\u001b[1;32mNone\u001b[0m\u001b[1;33m,\u001b[0m \u001b[1;33m**\u001b[0m\u001b[0mkwargs\u001b[0m\u001b[1;33m)\u001b[0m\u001b[1;33m:\u001b[0m\u001b[1;33m\u001b[0m\u001b[1;33m\u001b[0m\u001b[0m\n\u001b[0;32m   1446\u001b[0m         \u001b[1;32mif\u001b[0m \u001b[0mdata\u001b[0m \u001b[1;32mis\u001b[0m \u001b[1;32mNone\u001b[0m\u001b[1;33m:\u001b[0m\u001b[1;33m\u001b[0m\u001b[1;33m\u001b[0m\u001b[0m\n\u001b[1;32m-> 1447\u001b[1;33m             \u001b[1;32mreturn\u001b[0m \u001b[0mfunc\u001b[0m\u001b[1;33m(\u001b[0m\u001b[0max\u001b[0m\u001b[1;33m,\u001b[0m \u001b[1;33m*\u001b[0m\u001b[0mmap\u001b[0m\u001b[1;33m(\u001b[0m\u001b[0msanitize_sequence\u001b[0m\u001b[1;33m,\u001b[0m \u001b[0margs\u001b[0m\u001b[1;33m)\u001b[0m\u001b[1;33m,\u001b[0m \u001b[1;33m**\u001b[0m\u001b[0mkwargs\u001b[0m\u001b[1;33m)\u001b[0m\u001b[1;33m\u001b[0m\u001b[1;33m\u001b[0m\u001b[0m\n\u001b[0m\u001b[0;32m   1448\u001b[0m \u001b[1;33m\u001b[0m\u001b[0m\n\u001b[0;32m   1449\u001b[0m         \u001b[0mbound\u001b[0m \u001b[1;33m=\u001b[0m \u001b[0mnew_sig\u001b[0m\u001b[1;33m.\u001b[0m\u001b[0mbind\u001b[0m\u001b[1;33m(\u001b[0m\u001b[0max\u001b[0m\u001b[1;33m,\u001b[0m \u001b[1;33m*\u001b[0m\u001b[0margs\u001b[0m\u001b[1;33m,\u001b[0m \u001b[1;33m**\u001b[0m\u001b[0mkwargs\u001b[0m\u001b[1;33m)\u001b[0m\u001b[1;33m\u001b[0m\u001b[1;33m\u001b[0m\u001b[0m\n",
      "\u001b[1;32m~\\anaconda3\\envs\\project3\\lib\\site-packages\\matplotlib\\axes\\_axes.py\u001b[0m in \u001b[0;36mbar\u001b[1;34m(self, x, height, width, bottom, align, **kwargs)\u001b[0m\n\u001b[0;32m   2430\u001b[0m         x, height, width, y, linewidth = np.broadcast_arrays(\n\u001b[0;32m   2431\u001b[0m             \u001b[1;31m# Make args iterable too.\u001b[0m\u001b[1;33m\u001b[0m\u001b[1;33m\u001b[0m\u001b[1;33m\u001b[0m\u001b[0m\n\u001b[1;32m-> 2432\u001b[1;33m             np.atleast_1d(x), height, width, y, linewidth)\n\u001b[0m\u001b[0;32m   2433\u001b[0m \u001b[1;33m\u001b[0m\u001b[0m\n\u001b[0;32m   2434\u001b[0m         \u001b[1;31m# Now that units have been converted, set the tick locations.\u001b[0m\u001b[1;33m\u001b[0m\u001b[1;33m\u001b[0m\u001b[1;33m\u001b[0m\u001b[0m\n",
      "\u001b[1;32m<__array_function__ internals>\u001b[0m in \u001b[0;36mbroadcast_arrays\u001b[1;34m(*args, **kwargs)\u001b[0m\n",
      "\u001b[1;32m~\\anaconda3\\envs\\project3\\lib\\site-packages\\numpy\\lib\\stride_tricks.py\u001b[0m in \u001b[0;36mbroadcast_arrays\u001b[1;34m(subok, *args)\u001b[0m\n\u001b[0;32m    536\u001b[0m     \u001b[0margs\u001b[0m \u001b[1;33m=\u001b[0m \u001b[1;33m[\u001b[0m\u001b[0mnp\u001b[0m\u001b[1;33m.\u001b[0m\u001b[0marray\u001b[0m\u001b[1;33m(\u001b[0m\u001b[0m_m\u001b[0m\u001b[1;33m,\u001b[0m \u001b[0mcopy\u001b[0m\u001b[1;33m=\u001b[0m\u001b[1;32mFalse\u001b[0m\u001b[1;33m,\u001b[0m \u001b[0msubok\u001b[0m\u001b[1;33m=\u001b[0m\u001b[0msubok\u001b[0m\u001b[1;33m)\u001b[0m \u001b[1;32mfor\u001b[0m \u001b[0m_m\u001b[0m \u001b[1;32min\u001b[0m \u001b[0margs\u001b[0m\u001b[1;33m]\u001b[0m\u001b[1;33m\u001b[0m\u001b[1;33m\u001b[0m\u001b[0m\n\u001b[0;32m    537\u001b[0m \u001b[1;33m\u001b[0m\u001b[0m\n\u001b[1;32m--> 538\u001b[1;33m     \u001b[0mshape\u001b[0m \u001b[1;33m=\u001b[0m \u001b[0m_broadcast_shape\u001b[0m\u001b[1;33m(\u001b[0m\u001b[1;33m*\u001b[0m\u001b[0margs\u001b[0m\u001b[1;33m)\u001b[0m\u001b[1;33m\u001b[0m\u001b[1;33m\u001b[0m\u001b[0m\n\u001b[0m\u001b[0;32m    539\u001b[0m \u001b[1;33m\u001b[0m\u001b[0m\n\u001b[0;32m    540\u001b[0m     \u001b[1;32mif\u001b[0m \u001b[0mall\u001b[0m\u001b[1;33m(\u001b[0m\u001b[0marray\u001b[0m\u001b[1;33m.\u001b[0m\u001b[0mshape\u001b[0m \u001b[1;33m==\u001b[0m \u001b[0mshape\u001b[0m \u001b[1;32mfor\u001b[0m \u001b[0marray\u001b[0m \u001b[1;32min\u001b[0m \u001b[0margs\u001b[0m\u001b[1;33m)\u001b[0m\u001b[1;33m:\u001b[0m\u001b[1;33m\u001b[0m\u001b[1;33m\u001b[0m\u001b[0m\n",
      "\u001b[1;32m~\\anaconda3\\envs\\project3\\lib\\site-packages\\numpy\\lib\\stride_tricks.py\u001b[0m in \u001b[0;36m_broadcast_shape\u001b[1;34m(*args)\u001b[0m\n\u001b[0;32m    418\u001b[0m     \u001b[1;31m# use the old-iterator because np.nditer does not handle size 0 arrays\u001b[0m\u001b[1;33m\u001b[0m\u001b[1;33m\u001b[0m\u001b[1;33m\u001b[0m\u001b[0m\n\u001b[0;32m    419\u001b[0m     \u001b[1;31m# consistently\u001b[0m\u001b[1;33m\u001b[0m\u001b[1;33m\u001b[0m\u001b[1;33m\u001b[0m\u001b[0m\n\u001b[1;32m--> 420\u001b[1;33m     \u001b[0mb\u001b[0m \u001b[1;33m=\u001b[0m \u001b[0mnp\u001b[0m\u001b[1;33m.\u001b[0m\u001b[0mbroadcast\u001b[0m\u001b[1;33m(\u001b[0m\u001b[1;33m*\u001b[0m\u001b[0margs\u001b[0m\u001b[1;33m[\u001b[0m\u001b[1;33m:\u001b[0m\u001b[1;36m32\u001b[0m\u001b[1;33m]\u001b[0m\u001b[1;33m)\u001b[0m\u001b[1;33m\u001b[0m\u001b[1;33m\u001b[0m\u001b[0m\n\u001b[0m\u001b[0;32m    421\u001b[0m     \u001b[1;31m# unfortunately, it cannot handle 32 or more arguments directly\u001b[0m\u001b[1;33m\u001b[0m\u001b[1;33m\u001b[0m\u001b[1;33m\u001b[0m\u001b[0m\n\u001b[0;32m    422\u001b[0m     \u001b[1;32mfor\u001b[0m \u001b[0mpos\u001b[0m \u001b[1;32min\u001b[0m \u001b[0mrange\u001b[0m\u001b[1;33m(\u001b[0m\u001b[1;36m32\u001b[0m\u001b[1;33m,\u001b[0m \u001b[0mlen\u001b[0m\u001b[1;33m(\u001b[0m\u001b[0margs\u001b[0m\u001b[1;33m)\u001b[0m\u001b[1;33m,\u001b[0m \u001b[1;36m31\u001b[0m\u001b[1;33m)\u001b[0m\u001b[1;33m:\u001b[0m\u001b[1;33m\u001b[0m\u001b[1;33m\u001b[0m\u001b[0m\n",
      "\u001b[1;31mValueError\u001b[0m: shape mismatch: objects cannot be broadcast to a single shape"
     ]
    }
   ],
   "source": [
    "plt.figure(figsize=(10,6))\n",
    "plt.title(\"Relation of age with heart disease\")\n",
    "plt.xlabel(\"age\")\n",
    "plt.ylabel(\"target\")\n",
    "\n",
    "\n",
    "\n",
    "plt.bar(heartdf['age'],X1)\n",
    "\n",
    "plt.show()"
   ]
  },
  {
   "cell_type": "code",
   "execution_count": 26,
   "metadata": {
    "collapsed": true
   },
   "outputs": [
    {
     "data": {
      "text/plain": [
       "<matplotlib.axes._subplots.AxesSubplot at 0x2dc61346df0>"
      ]
     },
     "execution_count": 26,
     "metadata": {},
     "output_type": "execute_result"
    },
    {
     "data": {
      "image/png": "[encoded data removed]",
      "text/plain": [
       "<Figure size 720x432 with 1 Axes>"
      ]
     },
     "metadata": {
      "needs_background": "light"
     },
     "output_type": "display_data"
    }
   ],
   "source": [
    "plt.figure(figsize=(10,6))\n",
    "sns.countplot(x=heartdf['target'],hue=heartdf['sex'],palette='Blues')"
   ]
  },
  {
   "cell_type": "code",
   "execution_count": 27,
   "metadata": {},
   "outputs": [
    {
     "data": {
      "text/plain": [
       "Text(0, 0.5, 'Heart rate')"
      ]
     },
     "execution_count": 27,
     "metadata": {},
     "output_type": "execute_result"
    },
    {
     "data": {
      "image/png": "[encoded data removed]",
      "text/plain": [
       "<Figure size 720x432 with 1 Axes>"
      ]
     },
     "metadata": {
      "needs_background": "light"
     },
     "output_type": "display_data"
    }
   ],
   "source": [
    "plt.figure(figsize=(10,6))\n",
    "plt.bar(heartdf['age'],heartdf['max_heart_rate'])\n",
    "plt.title('Age vs heart rate')\n",
    "plt.xlabel('Age')\n",
    "plt.ylabel('Heart rate')"
   ]
  },
  {
   "cell_type": "code",
   "execution_count": null,
   "metadata": {},
   "outputs": [],
   "source": []
  }
 ],
 "metadata": {
  "kernelspec": {
   "display_name": "Python 3",
   "language": "python",
   "name": "python3"
  },
  "language_info": {
   "codemirror_mode": {
    "name": "ipython",
    "version": 3
   },
   "file_extension": ".py",
   "mimetype": "text/x-python",
   "name": "python",
   "nbconvert_exporter": "python",
   "pygments_lexer": "ipython3",
   "version": "3.7.9-final"
  }
 },
 "nbformat": 4,
 "nbformat_minor": 4
}